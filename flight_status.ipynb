{
 "cells": [
  {
   "cell_type": "markdown",
   "metadata": {},
   "source": [
    "# What's My Flight Status?: Using Flight Data to Predict Flight Delays\n",
    "***\n",
    "Author: Andre Layton\n",
    "***\n",
    "\n",
    "## Overview\n",
    "\n",
    "One of the most common applications of supervised learning in the aviation industry is predicting flight delays. By analyzing historical data on flight delays, machine learning and deep learning algorithms can identify patterns and factors that correlate with delays. This information can then be used to predict if a particular flight is likely to be delayed. Carriers can use these predictions to take preemptive measures, such as adjusting schedules or re-routing passengers, in order to minimize the impact of delays and their sales.\n",
    "\n",
    "## Business Problem\n",
    "\n",
    "I’ve been hired to create an algorithm that can predict flight delays, which will eventually be deployed as an app for consumers to be able to track their flights. This is beneficial to both the airline and potential passengers – for the airline, it will help with flight logistics and reduce fees due to delays (i.e. tarmac fees, reimbursements, etc.). For passengers, the app will allow them to make delay arrangements and take measures ahead of time, and possibly save on delay expenses. While delays are frustrating whether expected or not, United aims to use this strategy to display company honesty and gain more control over their flights.\n",
    "\n",
    ">Note: The ultimate objective is to develop an app for consumer use, but within the constraints of this analysis, the model will be saved and stored in the repository [here.](/best_model.h5)"
   ]
  },
  {
   "cell_type": "markdown",
   "metadata": {},
   "source": [
    "<img src=\"https://res.cloudinary.com/sagacity/image/upload/c_crop,h_2799,w_4199,x_0,y_0/c_limit,dpr_auto,f_auto,fl_lossy,q_80,w_1080/shutterstock_402702424_dlgrgk.jpg\" style=\"height:650px\" />"
   ]
  },
  {
   "cell_type": "markdown",
   "metadata": {},
   "source": [
    "## Data Understanding \n",
    "\n",
    "To start, I import all the necessary packages, and I set a seed for reproducibility purposes. Then, I load the data, which is split into two files - a text file (`.txt`) and a CSV file (`.csv`). The text file contains the metadata, which in this case contains various column names and a short description. The CSV file contains the flight data needed for analysis."
   ]
  },
  {
   "cell_type": "code",
   "execution_count": 1,
   "metadata": {},
   "outputs": [],
   "source": [
    "# Import relevant libraries\n",
    "import pandas as pd\n",
    "import numpy as np\n",
    "from matplotlib import pyplot as plt\n",
    "import matplotlib.ticker as ticker\n",
    "from matplotlib.ticker import AutoMinorLocator\n",
    "import seaborn as sns\n",
    "%matplotlib inline\n",
    "plt.style.use('ggplot')\n",
    "\n",
    "from sklearn.pipeline import make_pipeline, Pipeline\n",
    "from sklearn.model_selection import train_test_split, GridSearchCV, cross_validate\n",
    "from imblearn.over_sampling import SMOTE\n",
    "from collections import Counter\n",
    "from sklearn.preprocessing import MinMaxScaler, OneHotEncoder\n",
    "from sklearn.metrics import precision_score, recall_score, f1_score, confusion_matrix, classification_report,\\\n",
    "                            ConfusionMatrixDisplay, make_scorer\n",
    "from sklearn.tree import DecisionTreeClassifier\n",
    "from sklearn.ensemble import RandomForestClassifier, GradientBoostingClassifier, AdaBoostClassifier\n",
    "import joblib\n",
    "from tensorflow.keras.models import Sequential, load_model\n",
    "from tensorflow.keras.layers import Dense\n",
    "from tensorflow.keras.callbacks import EarlyStopping, ModelCheckpoint\n",
    "from tensorflow.keras import regularizers, optimizers\n",
    "\n",
    "# Create a seed for reproducibility\n",
    "seed=24"
   ]
  },
  {
   "cell_type": "code",
   "execution_count": 2,
   "metadata": {
    "scrolled": true
   },
   "outputs": [
    {
     "name": "stdout",
     "output_type": "stream",
     "text": [
      "AIRPORT_COORDINATES\n",
      "\tORIGIN_AIRPORT_ID: \tAirport ID, matches to ORIGIN_AIRPORT_ID in other files\n",
      "\tDISPLAY_AIRPORT_NAME:  \tDisplay Airport, matches to DISPLAY_AIRPORT_NAME in other files\n",
      "\tLATITUDE: \t\tLatitude for airport\n",
      "\tLONGITUDE: \t\tLongitude for airport\n",
      "\n",
      "B43_AIRCRAFT_INVENTORY\n",
      "\tMANUFACTURE_YEAR: \tManufacture year\n",
      "\tTAIL_NUM: \t\tUnique tail number, matches to TAIL_NUM in other files\n",
      "\tNUMBER_OF_SEATS: \tNumber of seats on aircraft\n",
      "\t\n",
      "CARRIER_DECODE\n",
      "\tAIRLINE_ID: \t\tAirport ID, matches to AIRLINE_ID in other files\n",
      "\tOP_UNIQUE_CARRIER: \tCarrier code, matches to OP_UNIQUE_CARRIER in other files\n",
      "\tCARRIER_NAME: \t\tCarrier name, matches to UNIQUE_CARRIER_NAME or CARRIER_NAME in other files\n",
      "\n",
      "ONTIME_REPORTING_XX\n",
      "\tMONTH: \t\t\tMonth\n",
      "\tDAY_OF_MONTH: \t\tDay of the month (1-31)\n",
      "\tDAY_OF_WEEK: \t\tDay of the week\n",
      "\tOP_UNIQUE_CARRIER: \tCarrier code, matches to OP_UNIQUE_CARRIER in other files\n",
      "\tTAIL_NUM: \t\tUnique tail number, matches to TAIL_NUM in other files\n",
      "\tOP_CARRIER_FL_NUM: \tFlight number\n",
      "\tORIGIN_AIRPORT_ID: \tAirport ID, matches to ORIGIN_AIRPORT_ID in other files\n",
      "\tORIGIN: \t\tOrigin airport abbreviation\n",
      "\tORIGIN_CITY_NAME: \tOrigin city name\n",
      "\tDEST_AIRPORT_ID: \tDestination airport ID, matches Airport ID in other files\n",
      "\tDEST: \t\t\tDestination airport abbreviation\n",
      "\tDEST_CITY_NAME: \tDestination city name\n",
      "\tCRS_DEP_TIME: \t\tPlanned departure time\n",
      "\tDEP_TIME: \t\tActual departure time\n",
      "\tDEP_DELAY_NEW: \t\tDeparture delay in minutes\n",
      "\tDEP_DEL15:\t\tTARGET VARIABLE Binary if delayed over 15 min, 1 is yes\n",
      "\tDEP_TIME_BLK:\t\tDeparture time block\n",
      "\tCRS_ARR_TIME:\t\tPlanned arrival time\n",
      "\tARR_TIME:\t\tActual arrival time\n",
      "\tARR_DELAY_NEW:\t\tArrival delay in minutes\n",
      "\tARR_TIME_BLK:\t\tArrival time block\n",
      "\tCANCELLED:\t\tFlag if flight was cancelled\n",
      "\tCANCELLATION_CODE:\tCancellation Code\n",
      "\tCRS_ELAPSED_TIME:\tFlight planned elapsed time\n",
      "\tACTUAL_ELAPSED_TIME:\tFlight actual elapsed time\n",
      "\tDISTANCE:\t\tFlight Distance in miles\n",
      "\tDISTANCE_GROUP:\t\tFlight distance group\n",
      "\tCARRIER_DELAY:\t\tFlag for a carrier delay\n",
      "\tWEATHER_DELAY:\t\tFlag for a weather delay\n",
      "\tNAS_DELAY:\t\tFlag for a NAS delay\n",
      "\tSECURITY_DELAY:\t\tFlag for a security delay\n",
      "\tLATE_AIRCRAFT_DELAY:\tFlag for a late aircraft delay\n",
      "\n",
      "P10_EMPLOYEES\n",
      "\tYEAR: \t\t\tYear\n",
      "\tAIRLINE_ID: \t\tAirport ID, matches to AIRLINE_ID in other files\n",
      "\tOP_UNIQUE_CARRIER: \tCarrier code, matches to OP_UNIQUE_CARRIER in other files\n",
      "\tUNIQUE_CARRIER_NAME: \tCarrier name, matches to UNIQUE_CARRIER_NAME in other files\n",
      "\tCARRIER: \t\tCarrier abbreviation\n",
      "\tCARRIER_NAME: \t\tCarrier name, matches to UNIQUE_CARRIER_NAME or CARRIER_NAME in other files\n",
      "\tENTITY:\t\t\t\n",
      "\tGENERAL_MANAGE:\t\tGeneral managers\n",
      "\tPILOTS_COPILOTS:\tPilots/Copilots\n",
      "\tOTHER_FLT_PERS:\t\tOther flight personnel\n",
      "\tPASS_GEN_SVC_ADMIN:\tPassenger/General Services & Administration\n",
      "\tMAINTENANCE:\t\tMaintenance Employees\n",
      "\tARCFT_TRAF_HANDLING_GRP1: Aircraft Traffic Handling Group1 Employees\n",
      "\tGEN_ARCFT_TRAF_HANDLING\t: General Aircraft Traffic Handling Employees\n",
      "\tAIRCRAFT_CONTROL:\tAircraft Control Employees\n",
      "\tPASSENGER_HANDLING:\tPassenger Handling Employees\n",
      "\tCARGO_HANDLING:\t\tCargo Handling Employees\n",
      "\tTRAINEES_INTRUCTOR:\tTrainees and Instructor\n",
      "\tSTATISTICAL:\t\tStatistical Employees\n",
      "\tTRAFFIC_SOLICITERS:\tTraffic Soliciters\n",
      "\tOTHER:\t\t\tOther Employees\n",
      "\tTRANSPORT_RELATED:\tTransport Related Employees\n",
      "\tTOTAL:\t\t\tTotal employees\n",
      "\n",
      "T3_AIR_CARRIER_SUMMARY_AIRPORT_ACTIVITY_XXXX\n",
      "\tOP_UNIQUE_CARRIER: \tCarrier code, matches to OP_UNIQUE_CARRIER in other files\n",
      "\tCARRIER_NAME: \t\tCarrier name, matches to UNIQUE_CARRIER_NAME or CARRIER_NAME in other files\n",
      "\tORIGIN_AIRPORT_ID: \tAirport ID, matches to ORIGIN_AIRPORT_ID in other files\n",
      "\tSERVICE_CLASS: \t\tService class of flight (required in download)\n",
      "\tREV_ACRFT_DEP_PERF_510: Departures performed for year\n",
      "\tREV_PAX_ENP_110: \tPassengers enplaned for year\n",
      "\n",
      "airports_list\n",
      "\tORIGIN_AIRPORT_ID: \tAirport ID, matches to ORIGIN_AIRPORT_ID in other files\n",
      "\tDISPLAY_AIRPORT_NAME: \tDisplay Airport, matches to DISPLAY_AIRPORT_NAME in other files\n",
      "\tORIGIN_CITY_NAME: \tCity\n",
      "\tNAME: \t\t\tMatches to NAME in airport_weather\n",
      "\n",
      "\n",
      "airport_weather_xxxx\n",
      "\tSee GHCND_documentation.pdf for full list\n",
      "\tImportant features:\n",
      "\tNAME: \t\t\tLocation of reading\n",
      "\tPRCP: \t\t\tInches of precipitation for day\n",
      "\tSNOW: \t\t\tInches of snowfall for day\n",
      "\tSNWD: \t\t\tInches of snow on ground for day\n",
      "\tTMAX: \t\t\tMax temperature for day\n",
      "\tAWND: \t\t\tMax wind speed for day\n",
      "\n",
      "\n"
     ]
    }
   ],
   "source": [
    "# Load the metadata (column descriptions)\n",
    "metadata = open(\"data/raw_data_documentation.txt\", \"r\")\n",
    "print(metadata.read())"
   ]
  },
  {
   "cell_type": "code",
   "execution_count": 3,
   "metadata": {},
   "outputs": [
    {
     "data": {
      "text/html": [
       "<div>\n",
       "<style scoped>\n",
       "    .dataframe tbody tr th:only-of-type {\n",
       "        vertical-align: middle;\n",
       "    }\n",
       "\n",
       "    .dataframe tbody tr th {\n",
       "        vertical-align: top;\n",
       "    }\n",
       "\n",
       "    .dataframe thead th {\n",
       "        text-align: right;\n",
       "    }\n",
       "</style>\n",
       "<table border=\"1\" class=\"dataframe\">\n",
       "  <thead>\n",
       "    <tr style=\"text-align: right;\">\n",
       "      <th></th>\n",
       "      <th>MONTH</th>\n",
       "      <th>DAY_OF_WEEK</th>\n",
       "      <th>DEP_DEL15</th>\n",
       "      <th>DEP_TIME_BLK</th>\n",
       "      <th>DISTANCE_GROUP</th>\n",
       "      <th>SEGMENT_NUMBER</th>\n",
       "      <th>CONCURRENT_FLIGHTS</th>\n",
       "      <th>NUMBER_OF_SEATS</th>\n",
       "      <th>CARRIER_NAME</th>\n",
       "      <th>AIRPORT_FLIGHTS_MONTH</th>\n",
       "      <th>...</th>\n",
       "      <th>PLANE_AGE</th>\n",
       "      <th>DEPARTING_AIRPORT</th>\n",
       "      <th>LATITUDE</th>\n",
       "      <th>LONGITUDE</th>\n",
       "      <th>PREVIOUS_AIRPORT</th>\n",
       "      <th>PRCP</th>\n",
       "      <th>SNOW</th>\n",
       "      <th>SNWD</th>\n",
       "      <th>TMAX</th>\n",
       "      <th>AWND</th>\n",
       "    </tr>\n",
       "  </thead>\n",
       "  <tbody>\n",
       "    <tr>\n",
       "      <th>0</th>\n",
       "      <td>1</td>\n",
       "      <td>7</td>\n",
       "      <td>0</td>\n",
       "      <td>0800-0859</td>\n",
       "      <td>2</td>\n",
       "      <td>1</td>\n",
       "      <td>25</td>\n",
       "      <td>143</td>\n",
       "      <td>Southwest Airlines Co.</td>\n",
       "      <td>13056</td>\n",
       "      <td>...</td>\n",
       "      <td>8</td>\n",
       "      <td>McCarran International</td>\n",
       "      <td>36.08</td>\n",
       "      <td>-115.152</td>\n",
       "      <td>NONE</td>\n",
       "      <td>0.0</td>\n",
       "      <td>0.0</td>\n",
       "      <td>0.0</td>\n",
       "      <td>65.0</td>\n",
       "      <td>2.91</td>\n",
       "    </tr>\n",
       "    <tr>\n",
       "      <th>1</th>\n",
       "      <td>1</td>\n",
       "      <td>7</td>\n",
       "      <td>0</td>\n",
       "      <td>0700-0759</td>\n",
       "      <td>7</td>\n",
       "      <td>1</td>\n",
       "      <td>29</td>\n",
       "      <td>191</td>\n",
       "      <td>Delta Air Lines Inc.</td>\n",
       "      <td>13056</td>\n",
       "      <td>...</td>\n",
       "      <td>3</td>\n",
       "      <td>McCarran International</td>\n",
       "      <td>36.08</td>\n",
       "      <td>-115.152</td>\n",
       "      <td>NONE</td>\n",
       "      <td>0.0</td>\n",
       "      <td>0.0</td>\n",
       "      <td>0.0</td>\n",
       "      <td>65.0</td>\n",
       "      <td>2.91</td>\n",
       "    </tr>\n",
       "    <tr>\n",
       "      <th>2</th>\n",
       "      <td>1</td>\n",
       "      <td>7</td>\n",
       "      <td>0</td>\n",
       "      <td>0600-0659</td>\n",
       "      <td>7</td>\n",
       "      <td>1</td>\n",
       "      <td>27</td>\n",
       "      <td>199</td>\n",
       "      <td>Delta Air Lines Inc.</td>\n",
       "      <td>13056</td>\n",
       "      <td>...</td>\n",
       "      <td>18</td>\n",
       "      <td>McCarran International</td>\n",
       "      <td>36.08</td>\n",
       "      <td>-115.152</td>\n",
       "      <td>NONE</td>\n",
       "      <td>0.0</td>\n",
       "      <td>0.0</td>\n",
       "      <td>0.0</td>\n",
       "      <td>65.0</td>\n",
       "      <td>2.91</td>\n",
       "    </tr>\n",
       "    <tr>\n",
       "      <th>3</th>\n",
       "      <td>1</td>\n",
       "      <td>7</td>\n",
       "      <td>0</td>\n",
       "      <td>0600-0659</td>\n",
       "      <td>9</td>\n",
       "      <td>1</td>\n",
       "      <td>27</td>\n",
       "      <td>180</td>\n",
       "      <td>Delta Air Lines Inc.</td>\n",
       "      <td>13056</td>\n",
       "      <td>...</td>\n",
       "      <td>2</td>\n",
       "      <td>McCarran International</td>\n",
       "      <td>36.08</td>\n",
       "      <td>-115.152</td>\n",
       "      <td>NONE</td>\n",
       "      <td>0.0</td>\n",
       "      <td>0.0</td>\n",
       "      <td>0.0</td>\n",
       "      <td>65.0</td>\n",
       "      <td>2.91</td>\n",
       "    </tr>\n",
       "    <tr>\n",
       "      <th>4</th>\n",
       "      <td>1</td>\n",
       "      <td>7</td>\n",
       "      <td>0</td>\n",
       "      <td>0001-0559</td>\n",
       "      <td>7</td>\n",
       "      <td>1</td>\n",
       "      <td>10</td>\n",
       "      <td>182</td>\n",
       "      <td>Spirit Air Lines</td>\n",
       "      <td>13056</td>\n",
       "      <td>...</td>\n",
       "      <td>1</td>\n",
       "      <td>McCarran International</td>\n",
       "      <td>36.08</td>\n",
       "      <td>-115.152</td>\n",
       "      <td>NONE</td>\n",
       "      <td>0.0</td>\n",
       "      <td>0.0</td>\n",
       "      <td>0.0</td>\n",
       "      <td>65.0</td>\n",
       "      <td>2.91</td>\n",
       "    </tr>\n",
       "    <tr>\n",
       "      <th>5</th>\n",
       "      <td>1</td>\n",
       "      <td>7</td>\n",
       "      <td>0</td>\n",
       "      <td>0001-0559</td>\n",
       "      <td>3</td>\n",
       "      <td>1</td>\n",
       "      <td>10</td>\n",
       "      <td>180</td>\n",
       "      <td>Frontier Airlines Inc.</td>\n",
       "      <td>13056</td>\n",
       "      <td>...</td>\n",
       "      <td>5</td>\n",
       "      <td>McCarran International</td>\n",
       "      <td>36.08</td>\n",
       "      <td>-115.152</td>\n",
       "      <td>NONE</td>\n",
       "      <td>0.0</td>\n",
       "      <td>0.0</td>\n",
       "      <td>0.0</td>\n",
       "      <td>65.0</td>\n",
       "      <td>2.91</td>\n",
       "    </tr>\n",
       "    <tr>\n",
       "      <th>6</th>\n",
       "      <td>1</td>\n",
       "      <td>7</td>\n",
       "      <td>0</td>\n",
       "      <td>0700-0759</td>\n",
       "      <td>6</td>\n",
       "      <td>1</td>\n",
       "      <td>29</td>\n",
       "      <td>186</td>\n",
       "      <td>Frontier Airlines Inc.</td>\n",
       "      <td>13056</td>\n",
       "      <td>...</td>\n",
       "      <td>2</td>\n",
       "      <td>McCarran International</td>\n",
       "      <td>36.08</td>\n",
       "      <td>-115.152</td>\n",
       "      <td>NONE</td>\n",
       "      <td>0.0</td>\n",
       "      <td>0.0</td>\n",
       "      <td>0.0</td>\n",
       "      <td>65.0</td>\n",
       "      <td>2.91</td>\n",
       "    </tr>\n",
       "    <tr>\n",
       "      <th>7</th>\n",
       "      <td>1</td>\n",
       "      <td>7</td>\n",
       "      <td>1</td>\n",
       "      <td>0001-0559</td>\n",
       "      <td>7</td>\n",
       "      <td>1</td>\n",
       "      <td>10</td>\n",
       "      <td>186</td>\n",
       "      <td>Frontier Airlines Inc.</td>\n",
       "      <td>13056</td>\n",
       "      <td>...</td>\n",
       "      <td>3</td>\n",
       "      <td>McCarran International</td>\n",
       "      <td>36.08</td>\n",
       "      <td>-115.152</td>\n",
       "      <td>NONE</td>\n",
       "      <td>0.0</td>\n",
       "      <td>0.0</td>\n",
       "      <td>0.0</td>\n",
       "      <td>65.0</td>\n",
       "      <td>2.91</td>\n",
       "    </tr>\n",
       "    <tr>\n",
       "      <th>8</th>\n",
       "      <td>1</td>\n",
       "      <td>7</td>\n",
       "      <td>0</td>\n",
       "      <td>0001-0559</td>\n",
       "      <td>7</td>\n",
       "      <td>1</td>\n",
       "      <td>10</td>\n",
       "      <td>180</td>\n",
       "      <td>Frontier Airlines Inc.</td>\n",
       "      <td>13056</td>\n",
       "      <td>...</td>\n",
       "      <td>3</td>\n",
       "      <td>McCarran International</td>\n",
       "      <td>36.08</td>\n",
       "      <td>-115.152</td>\n",
       "      <td>NONE</td>\n",
       "      <td>0.0</td>\n",
       "      <td>0.0</td>\n",
       "      <td>0.0</td>\n",
       "      <td>65.0</td>\n",
       "      <td>2.91</td>\n",
       "    </tr>\n",
       "    <tr>\n",
       "      <th>9</th>\n",
       "      <td>1</td>\n",
       "      <td>7</td>\n",
       "      <td>0</td>\n",
       "      <td>0600-0659</td>\n",
       "      <td>8</td>\n",
       "      <td>1</td>\n",
       "      <td>27</td>\n",
       "      <td>186</td>\n",
       "      <td>Frontier Airlines Inc.</td>\n",
       "      <td>13056</td>\n",
       "      <td>...</td>\n",
       "      <td>1</td>\n",
       "      <td>McCarran International</td>\n",
       "      <td>36.08</td>\n",
       "      <td>-115.152</td>\n",
       "      <td>NONE</td>\n",
       "      <td>0.0</td>\n",
       "      <td>0.0</td>\n",
       "      <td>0.0</td>\n",
       "      <td>65.0</td>\n",
       "      <td>2.91</td>\n",
       "    </tr>\n",
       "  </tbody>\n",
       "</table>\n",
       "<p>10 rows × 26 columns</p>\n",
       "</div>"
      ],
      "text/plain": [
       "   MONTH  DAY_OF_WEEK  DEP_DEL15 DEP_TIME_BLK  DISTANCE_GROUP  SEGMENT_NUMBER  \\\n",
       "0      1            7          0    0800-0859               2               1   \n",
       "1      1            7          0    0700-0759               7               1   \n",
       "2      1            7          0    0600-0659               7               1   \n",
       "3      1            7          0    0600-0659               9               1   \n",
       "4      1            7          0    0001-0559               7               1   \n",
       "5      1            7          0    0001-0559               3               1   \n",
       "6      1            7          0    0700-0759               6               1   \n",
       "7      1            7          1    0001-0559               7               1   \n",
       "8      1            7          0    0001-0559               7               1   \n",
       "9      1            7          0    0600-0659               8               1   \n",
       "\n",
       "   CONCURRENT_FLIGHTS  NUMBER_OF_SEATS            CARRIER_NAME  \\\n",
       "0                  25              143  Southwest Airlines Co.   \n",
       "1                  29              191    Delta Air Lines Inc.   \n",
       "2                  27              199    Delta Air Lines Inc.   \n",
       "3                  27              180    Delta Air Lines Inc.   \n",
       "4                  10              182        Spirit Air Lines   \n",
       "5                  10              180  Frontier Airlines Inc.   \n",
       "6                  29              186  Frontier Airlines Inc.   \n",
       "7                  10              186  Frontier Airlines Inc.   \n",
       "8                  10              180  Frontier Airlines Inc.   \n",
       "9                  27              186  Frontier Airlines Inc.   \n",
       "\n",
       "   AIRPORT_FLIGHTS_MONTH  ...  PLANE_AGE       DEPARTING_AIRPORT  LATITUDE  \\\n",
       "0                  13056  ...          8  McCarran International     36.08   \n",
       "1                  13056  ...          3  McCarran International     36.08   \n",
       "2                  13056  ...         18  McCarran International     36.08   \n",
       "3                  13056  ...          2  McCarran International     36.08   \n",
       "4                  13056  ...          1  McCarran International     36.08   \n",
       "5                  13056  ...          5  McCarran International     36.08   \n",
       "6                  13056  ...          2  McCarran International     36.08   \n",
       "7                  13056  ...          3  McCarran International     36.08   \n",
       "8                  13056  ...          3  McCarran International     36.08   \n",
       "9                  13056  ...          1  McCarran International     36.08   \n",
       "\n",
       "   LONGITUDE  PREVIOUS_AIRPORT  PRCP  SNOW SNWD  TMAX  AWND  \n",
       "0   -115.152              NONE   0.0   0.0  0.0  65.0  2.91  \n",
       "1   -115.152              NONE   0.0   0.0  0.0  65.0  2.91  \n",
       "2   -115.152              NONE   0.0   0.0  0.0  65.0  2.91  \n",
       "3   -115.152              NONE   0.0   0.0  0.0  65.0  2.91  \n",
       "4   -115.152              NONE   0.0   0.0  0.0  65.0  2.91  \n",
       "5   -115.152              NONE   0.0   0.0  0.0  65.0  2.91  \n",
       "6   -115.152              NONE   0.0   0.0  0.0  65.0  2.91  \n",
       "7   -115.152              NONE   0.0   0.0  0.0  65.0  2.91  \n",
       "8   -115.152              NONE   0.0   0.0  0.0  65.0  2.91  \n",
       "9   -115.152              NONE   0.0   0.0  0.0  65.0  2.91  \n",
       "\n",
       "[10 rows x 26 columns]"
      ]
     },
     "execution_count": 3,
     "metadata": {},
     "output_type": "execute_result"
    }
   ],
   "source": [
    "# Load the flight data\n",
    "data = pd.read_csv('data/full_data_flightdelay.csv')\n",
    "\n",
    "# Preview the first 10 records\n",
    "data.head(10)"
   ]
  },
  {
   "cell_type": "markdown",
   "metadata": {},
   "source": [
    "The dataframe above gives me an initial look into the dataset, but I will apply a few more methods to gain a better understanding (i.e. `info()`, `isna()`, etc.). These techniques will help me learn more about my data, including the existence of any missing values and the data types of each column."
   ]
  },
  {
   "cell_type": "code",
   "execution_count": 4,
   "metadata": {
    "scrolled": false
   },
   "outputs": [
    {
     "name": "stdout",
     "output_type": "stream",
     "text": [
      "<class 'pandas.core.frame.DataFrame'>\n",
      "RangeIndex: 6489062 entries, 0 to 6489061\n",
      "Data columns (total 26 columns):\n",
      " #   Column                         Dtype  \n",
      "---  ------                         -----  \n",
      " 0   MONTH                          int64  \n",
      " 1   DAY_OF_WEEK                    int64  \n",
      " 2   DEP_DEL15                      int64  \n",
      " 3   DEP_TIME_BLK                   object \n",
      " 4   DISTANCE_GROUP                 int64  \n",
      " 5   SEGMENT_NUMBER                 int64  \n",
      " 6   CONCURRENT_FLIGHTS             int64  \n",
      " 7   NUMBER_OF_SEATS                int64  \n",
      " 8   CARRIER_NAME                   object \n",
      " 9   AIRPORT_FLIGHTS_MONTH          int64  \n",
      " 10  AIRLINE_FLIGHTS_MONTH          int64  \n",
      " 11  AIRLINE_AIRPORT_FLIGHTS_MONTH  int64  \n",
      " 12  AVG_MONTHLY_PASS_AIRPORT       int64  \n",
      " 13  AVG_MONTHLY_PASS_AIRLINE       int64  \n",
      " 14  FLT_ATTENDANTS_PER_PASS        float64\n",
      " 15  GROUND_SERV_PER_PASS           float64\n",
      " 16  PLANE_AGE                      int64  \n",
      " 17  DEPARTING_AIRPORT              object \n",
      " 18  LATITUDE                       float64\n",
      " 19  LONGITUDE                      float64\n",
      " 20  PREVIOUS_AIRPORT               object \n",
      " 21  PRCP                           float64\n",
      " 22  SNOW                           float64\n",
      " 23  SNWD                           float64\n",
      " 24  TMAX                           float64\n",
      " 25  AWND                           float64\n",
      "dtypes: float64(9), int64(13), object(4)\n",
      "memory usage: 1.3+ GB\n"
     ]
    }
   ],
   "source": [
    "# Print column information\n",
    "data.info()"
   ]
  },
  {
   "cell_type": "markdown",
   "metadata": {},
   "source": [
    "I can see the method above displays the data type for each feature. Another point is the amount of data present. There are over 6.4 million observations, which will need to be reduced considering I'm only interested in United Airlines flights. The method below filters out the records based on the airline, revealing there are over 600,000 observations that will be analyzed to build my algorithm. "
   ]
  },
  {
   "cell_type": "code",
   "execution_count": 5,
   "metadata": {},
   "outputs": [
    {
     "data": {
      "text/plain": [
       "Southwest Airlines Co.          1296329\n",
       "Delta Air Lines Inc.             938346\n",
       "American Airlines Inc.           903640\n",
       "United Air Lines Inc.            601044\n",
       "SkyWest Airlines Inc.            584204\n",
       "Midwest Airline, Inc.            300154\n",
       "JetBlue Airways                  269596\n",
       "Alaska Airlines Inc.             239337\n",
       "American Eagle Airlines Inc.     228792\n",
       "Comair Inc.                      219324\n",
       "Endeavor Air Inc.                203827\n",
       "Spirit Air Lines                 189419\n",
       "Mesa Airlines Inc.               177600\n",
       "Frontier Airlines Inc.           120872\n",
       "Atlantic Southeast Airlines       99044\n",
       "Hawaiian Airlines Inc.            74898\n",
       "Allegiant Air                     42636\n",
       "Name: CARRIER_NAME, dtype: int64"
      ]
     },
     "execution_count": 5,
     "metadata": {},
     "output_type": "execute_result"
    }
   ],
   "source": [
    "# Print airline information\n",
    "data['CARRIER_NAME'].value_counts()"
   ]
  },
  {
   "cell_type": "markdown",
   "metadata": {},
   "source": [
    "The first method also gives me an idea into whether there are any missing values in the dataset. To know for sure, I will apply some more methods that will take the sum of every missing value in each column and returns those values. I find that, fortunately, there are no missing values present in my data, which will make cleaning the data more straightforward."
   ]
  },
  {
   "cell_type": "code",
   "execution_count": 6,
   "metadata": {
    "scrolled": false
   },
   "outputs": [
    {
     "data": {
      "text/plain": [
       "MONTH                            0\n",
       "DAY_OF_WEEK                      0\n",
       "DEP_DEL15                        0\n",
       "DEP_TIME_BLK                     0\n",
       "DISTANCE_GROUP                   0\n",
       "SEGMENT_NUMBER                   0\n",
       "CONCURRENT_FLIGHTS               0\n",
       "NUMBER_OF_SEATS                  0\n",
       "CARRIER_NAME                     0\n",
       "AIRPORT_FLIGHTS_MONTH            0\n",
       "AIRLINE_FLIGHTS_MONTH            0\n",
       "AIRLINE_AIRPORT_FLIGHTS_MONTH    0\n",
       "AVG_MONTHLY_PASS_AIRPORT         0\n",
       "AVG_MONTHLY_PASS_AIRLINE         0\n",
       "FLT_ATTENDANTS_PER_PASS          0\n",
       "GROUND_SERV_PER_PASS             0\n",
       "PLANE_AGE                        0\n",
       "DEPARTING_AIRPORT                0\n",
       "LATITUDE                         0\n",
       "LONGITUDE                        0\n",
       "PREVIOUS_AIRPORT                 0\n",
       "PRCP                             0\n",
       "SNOW                             0\n",
       "SNWD                             0\n",
       "TMAX                             0\n",
       "AWND                             0\n",
       "dtype: int64"
      ]
     },
     "execution_count": 6,
     "metadata": {},
     "output_type": "execute_result"
    }
   ],
   "source": [
    "# Find the amount of missing values in each column\n",
    "data.isna().sum()"
   ]
  },
  {
   "cell_type": "markdown",
   "metadata": {},
   "source": [
    "## Data Preparation\n",
    "Now that I've gotten an initial look, it's time to begin preparing the data for modeling. I will start by making a copy of the original dataset, then filtering the data to keep only flights taken with United Airlines. From my earlier observations, I can see that will greatly reduce the data from 6 million to a little over 600,000 records. "
   ]
  },
  {
   "cell_type": "code",
   "execution_count": 7,
   "metadata": {},
   "outputs": [],
   "source": [
    "# Make a copy of the dataset\n",
    "data2 = data.copy()"
   ]
  },
  {
   "cell_type": "code",
   "execution_count": 8,
   "metadata": {},
   "outputs": [
    {
     "data": {
      "text/html": [
       "<div>\n",
       "<style scoped>\n",
       "    .dataframe tbody tr th:only-of-type {\n",
       "        vertical-align: middle;\n",
       "    }\n",
       "\n",
       "    .dataframe tbody tr th {\n",
       "        vertical-align: top;\n",
       "    }\n",
       "\n",
       "    .dataframe thead th {\n",
       "        text-align: right;\n",
       "    }\n",
       "</style>\n",
       "<table border=\"1\" class=\"dataframe\">\n",
       "  <thead>\n",
       "    <tr style=\"text-align: right;\">\n",
       "      <th></th>\n",
       "      <th>MONTH</th>\n",
       "      <th>DAY_OF_WEEK</th>\n",
       "      <th>DEP_DEL15</th>\n",
       "      <th>DEP_TIME_BLK</th>\n",
       "      <th>DISTANCE_GROUP</th>\n",
       "      <th>SEGMENT_NUMBER</th>\n",
       "      <th>CONCURRENT_FLIGHTS</th>\n",
       "      <th>NUMBER_OF_SEATS</th>\n",
       "      <th>CARRIER_NAME</th>\n",
       "      <th>AIRPORT_FLIGHTS_MONTH</th>\n",
       "      <th>...</th>\n",
       "      <th>PLANE_AGE</th>\n",
       "      <th>DEPARTING_AIRPORT</th>\n",
       "      <th>LATITUDE</th>\n",
       "      <th>LONGITUDE</th>\n",
       "      <th>PREVIOUS_AIRPORT</th>\n",
       "      <th>PRCP</th>\n",
       "      <th>SNOW</th>\n",
       "      <th>SNWD</th>\n",
       "      <th>TMAX</th>\n",
       "      <th>AWND</th>\n",
       "    </tr>\n",
       "  </thead>\n",
       "  <tbody>\n",
       "    <tr>\n",
       "      <th>21</th>\n",
       "      <td>1</td>\n",
       "      <td>7</td>\n",
       "      <td>0</td>\n",
       "      <td>0800-0859</td>\n",
       "      <td>2</td>\n",
       "      <td>1</td>\n",
       "      <td>25</td>\n",
       "      <td>173</td>\n",
       "      <td>United Air Lines Inc.</td>\n",
       "      <td>13056</td>\n",
       "      <td>...</td>\n",
       "      <td>6</td>\n",
       "      <td>McCarran International</td>\n",
       "      <td>36.08</td>\n",
       "      <td>-115.152</td>\n",
       "      <td>NONE</td>\n",
       "      <td>0.0</td>\n",
       "      <td>0.0</td>\n",
       "      <td>0.0</td>\n",
       "      <td>65.0</td>\n",
       "      <td>2.91</td>\n",
       "    </tr>\n",
       "    <tr>\n",
       "      <th>22</th>\n",
       "      <td>1</td>\n",
       "      <td>7</td>\n",
       "      <td>0</td>\n",
       "      <td>0800-0859</td>\n",
       "      <td>3</td>\n",
       "      <td>1</td>\n",
       "      <td>25</td>\n",
       "      <td>142</td>\n",
       "      <td>United Air Lines Inc.</td>\n",
       "      <td>13056</td>\n",
       "      <td>...</td>\n",
       "      <td>22</td>\n",
       "      <td>McCarran International</td>\n",
       "      <td>36.08</td>\n",
       "      <td>-115.152</td>\n",
       "      <td>NONE</td>\n",
       "      <td>0.0</td>\n",
       "      <td>0.0</td>\n",
       "      <td>0.0</td>\n",
       "      <td>65.0</td>\n",
       "      <td>2.91</td>\n",
       "    </tr>\n",
       "    <tr>\n",
       "      <th>23</th>\n",
       "      <td>1</td>\n",
       "      <td>7</td>\n",
       "      <td>0</td>\n",
       "      <td>0900-0959</td>\n",
       "      <td>7</td>\n",
       "      <td>1</td>\n",
       "      <td>28</td>\n",
       "      <td>154</td>\n",
       "      <td>United Air Lines Inc.</td>\n",
       "      <td>13056</td>\n",
       "      <td>...</td>\n",
       "      <td>3</td>\n",
       "      <td>McCarran International</td>\n",
       "      <td>36.08</td>\n",
       "      <td>-115.152</td>\n",
       "      <td>NONE</td>\n",
       "      <td>0.0</td>\n",
       "      <td>0.0</td>\n",
       "      <td>0.0</td>\n",
       "      <td>65.0</td>\n",
       "      <td>2.91</td>\n",
       "    </tr>\n",
       "    <tr>\n",
       "      <th>24</th>\n",
       "      <td>1</td>\n",
       "      <td>7</td>\n",
       "      <td>1</td>\n",
       "      <td>1000-1059</td>\n",
       "      <td>3</td>\n",
       "      <td>1</td>\n",
       "      <td>29</td>\n",
       "      <td>142</td>\n",
       "      <td>United Air Lines Inc.</td>\n",
       "      <td>13056</td>\n",
       "      <td>...</td>\n",
       "      <td>19</td>\n",
       "      <td>McCarran International</td>\n",
       "      <td>36.08</td>\n",
       "      <td>-115.152</td>\n",
       "      <td>NONE</td>\n",
       "      <td>0.0</td>\n",
       "      <td>0.0</td>\n",
       "      <td>0.0</td>\n",
       "      <td>65.0</td>\n",
       "      <td>2.91</td>\n",
       "    </tr>\n",
       "    <tr>\n",
       "      <th>25</th>\n",
       "      <td>1</td>\n",
       "      <td>7</td>\n",
       "      <td>0</td>\n",
       "      <td>0600-0659</td>\n",
       "      <td>7</td>\n",
       "      <td>1</td>\n",
       "      <td>27</td>\n",
       "      <td>173</td>\n",
       "      <td>United Air Lines Inc.</td>\n",
       "      <td>13056</td>\n",
       "      <td>...</td>\n",
       "      <td>4</td>\n",
       "      <td>McCarran International</td>\n",
       "      <td>36.08</td>\n",
       "      <td>-115.152</td>\n",
       "      <td>NONE</td>\n",
       "      <td>0.0</td>\n",
       "      <td>0.0</td>\n",
       "      <td>0.0</td>\n",
       "      <td>65.0</td>\n",
       "      <td>2.91</td>\n",
       "    </tr>\n",
       "    <tr>\n",
       "      <th>26</th>\n",
       "      <td>1</td>\n",
       "      <td>7</td>\n",
       "      <td>0</td>\n",
       "      <td>0700-0759</td>\n",
       "      <td>1</td>\n",
       "      <td>1</td>\n",
       "      <td>29</td>\n",
       "      <td>154</td>\n",
       "      <td>United Air Lines Inc.</td>\n",
       "      <td>13056</td>\n",
       "      <td>...</td>\n",
       "      <td>21</td>\n",
       "      <td>McCarran International</td>\n",
       "      <td>36.08</td>\n",
       "      <td>-115.152</td>\n",
       "      <td>NONE</td>\n",
       "      <td>0.0</td>\n",
       "      <td>0.0</td>\n",
       "      <td>0.0</td>\n",
       "      <td>65.0</td>\n",
       "      <td>2.91</td>\n",
       "    </tr>\n",
       "    <tr>\n",
       "      <th>27</th>\n",
       "      <td>1</td>\n",
       "      <td>7</td>\n",
       "      <td>0</td>\n",
       "      <td>0600-0659</td>\n",
       "      <td>2</td>\n",
       "      <td>1</td>\n",
       "      <td>27</td>\n",
       "      <td>154</td>\n",
       "      <td>United Air Lines Inc.</td>\n",
       "      <td>13056</td>\n",
       "      <td>...</td>\n",
       "      <td>20</td>\n",
       "      <td>McCarran International</td>\n",
       "      <td>36.08</td>\n",
       "      <td>-115.152</td>\n",
       "      <td>NONE</td>\n",
       "      <td>0.0</td>\n",
       "      <td>0.0</td>\n",
       "      <td>0.0</td>\n",
       "      <td>65.0</td>\n",
       "      <td>2.91</td>\n",
       "    </tr>\n",
       "    <tr>\n",
       "      <th>28</th>\n",
       "      <td>1</td>\n",
       "      <td>7</td>\n",
       "      <td>0</td>\n",
       "      <td>0600-0659</td>\n",
       "      <td>9</td>\n",
       "      <td>1</td>\n",
       "      <td>27</td>\n",
       "      <td>173</td>\n",
       "      <td>United Air Lines Inc.</td>\n",
       "      <td>13056</td>\n",
       "      <td>...</td>\n",
       "      <td>11</td>\n",
       "      <td>McCarran International</td>\n",
       "      <td>36.08</td>\n",
       "      <td>-115.152</td>\n",
       "      <td>NONE</td>\n",
       "      <td>0.0</td>\n",
       "      <td>0.0</td>\n",
       "      <td>0.0</td>\n",
       "      <td>65.0</td>\n",
       "      <td>2.91</td>\n",
       "    </tr>\n",
       "    <tr>\n",
       "      <th>29</th>\n",
       "      <td>1</td>\n",
       "      <td>7</td>\n",
       "      <td>0</td>\n",
       "      <td>0001-0559</td>\n",
       "      <td>5</td>\n",
       "      <td>1</td>\n",
       "      <td>10</td>\n",
       "      <td>154</td>\n",
       "      <td>United Air Lines Inc.</td>\n",
       "      <td>13056</td>\n",
       "      <td>...</td>\n",
       "      <td>3</td>\n",
       "      <td>McCarran International</td>\n",
       "      <td>36.08</td>\n",
       "      <td>-115.152</td>\n",
       "      <td>NONE</td>\n",
       "      <td>0.0</td>\n",
       "      <td>0.0</td>\n",
       "      <td>0.0</td>\n",
       "      <td>65.0</td>\n",
       "      <td>2.91</td>\n",
       "    </tr>\n",
       "    <tr>\n",
       "      <th>30</th>\n",
       "      <td>1</td>\n",
       "      <td>7</td>\n",
       "      <td>0</td>\n",
       "      <td>0600-0659</td>\n",
       "      <td>3</td>\n",
       "      <td>1</td>\n",
       "      <td>27</td>\n",
       "      <td>173</td>\n",
       "      <td>United Air Lines Inc.</td>\n",
       "      <td>13056</td>\n",
       "      <td>...</td>\n",
       "      <td>4</td>\n",
       "      <td>McCarran International</td>\n",
       "      <td>36.08</td>\n",
       "      <td>-115.152</td>\n",
       "      <td>NONE</td>\n",
       "      <td>0.0</td>\n",
       "      <td>0.0</td>\n",
       "      <td>0.0</td>\n",
       "      <td>65.0</td>\n",
       "      <td>2.91</td>\n",
       "    </tr>\n",
       "  </tbody>\n",
       "</table>\n",
       "<p>10 rows × 26 columns</p>\n",
       "</div>"
      ],
      "text/plain": [
       "    MONTH  DAY_OF_WEEK  DEP_DEL15 DEP_TIME_BLK  DISTANCE_GROUP  \\\n",
       "21      1            7          0    0800-0859               2   \n",
       "22      1            7          0    0800-0859               3   \n",
       "23      1            7          0    0900-0959               7   \n",
       "24      1            7          1    1000-1059               3   \n",
       "25      1            7          0    0600-0659               7   \n",
       "26      1            7          0    0700-0759               1   \n",
       "27      1            7          0    0600-0659               2   \n",
       "28      1            7          0    0600-0659               9   \n",
       "29      1            7          0    0001-0559               5   \n",
       "30      1            7          0    0600-0659               3   \n",
       "\n",
       "    SEGMENT_NUMBER  CONCURRENT_FLIGHTS  NUMBER_OF_SEATS  \\\n",
       "21               1                  25              173   \n",
       "22               1                  25              142   \n",
       "23               1                  28              154   \n",
       "24               1                  29              142   \n",
       "25               1                  27              173   \n",
       "26               1                  29              154   \n",
       "27               1                  27              154   \n",
       "28               1                  27              173   \n",
       "29               1                  10              154   \n",
       "30               1                  27              173   \n",
       "\n",
       "             CARRIER_NAME  AIRPORT_FLIGHTS_MONTH  ...  PLANE_AGE  \\\n",
       "21  United Air Lines Inc.                  13056  ...          6   \n",
       "22  United Air Lines Inc.                  13056  ...         22   \n",
       "23  United Air Lines Inc.                  13056  ...          3   \n",
       "24  United Air Lines Inc.                  13056  ...         19   \n",
       "25  United Air Lines Inc.                  13056  ...          4   \n",
       "26  United Air Lines Inc.                  13056  ...         21   \n",
       "27  United Air Lines Inc.                  13056  ...         20   \n",
       "28  United Air Lines Inc.                  13056  ...         11   \n",
       "29  United Air Lines Inc.                  13056  ...          3   \n",
       "30  United Air Lines Inc.                  13056  ...          4   \n",
       "\n",
       "         DEPARTING_AIRPORT  LATITUDE  LONGITUDE  PREVIOUS_AIRPORT  PRCP  SNOW  \\\n",
       "21  McCarran International     36.08   -115.152              NONE   0.0   0.0   \n",
       "22  McCarran International     36.08   -115.152              NONE   0.0   0.0   \n",
       "23  McCarran International     36.08   -115.152              NONE   0.0   0.0   \n",
       "24  McCarran International     36.08   -115.152              NONE   0.0   0.0   \n",
       "25  McCarran International     36.08   -115.152              NONE   0.0   0.0   \n",
       "26  McCarran International     36.08   -115.152              NONE   0.0   0.0   \n",
       "27  McCarran International     36.08   -115.152              NONE   0.0   0.0   \n",
       "28  McCarran International     36.08   -115.152              NONE   0.0   0.0   \n",
       "29  McCarran International     36.08   -115.152              NONE   0.0   0.0   \n",
       "30  McCarran International     36.08   -115.152              NONE   0.0   0.0   \n",
       "\n",
       "   SNWD  TMAX  AWND  \n",
       "21  0.0  65.0  2.91  \n",
       "22  0.0  65.0  2.91  \n",
       "23  0.0  65.0  2.91  \n",
       "24  0.0  65.0  2.91  \n",
       "25  0.0  65.0  2.91  \n",
       "26  0.0  65.0  2.91  \n",
       "27  0.0  65.0  2.91  \n",
       "28  0.0  65.0  2.91  \n",
       "29  0.0  65.0  2.91  \n",
       "30  0.0  65.0  2.91  \n",
       "\n",
       "[10 rows x 26 columns]"
      ]
     },
     "execution_count": 8,
     "metadata": {},
     "output_type": "execute_result"
    }
   ],
   "source": [
    "# Filter United Airlines's records and list the first 10\n",
    "data2 = data2.loc[data2['CARRIER_NAME'] == 'United Air Lines Inc.']\n",
    "data2.head(10)"
   ]
  },
  {
   "cell_type": "markdown",
   "metadata": {},
   "source": [
    "Next step is to remove all the columns I believe are unnecessary or irrelevant to my model. This will reduce my dimensions from 26 to 12, which includes my target column."
   ]
  },
  {
   "cell_type": "code",
   "execution_count": 9,
   "metadata": {},
   "outputs": [
    {
     "name": "stdout",
     "output_type": "stream",
     "text": [
      "<class 'pandas.core.frame.DataFrame'>\n",
      "Int64Index: 601044 entries, 21 to 6489030\n",
      "Data columns (total 12 columns):\n",
      " #   Column             Non-Null Count   Dtype  \n",
      "---  ------             --------------   -----  \n",
      " 0   MONTH              601044 non-null  int64  \n",
      " 1   DAY_OF_WEEK        601044 non-null  int64  \n",
      " 2   DEP_DEL15          601044 non-null  int64  \n",
      " 3   DEP_TIME_BLK       601044 non-null  object \n",
      " 4   DISTANCE_GROUP     601044 non-null  int64  \n",
      " 5   PLANE_AGE          601044 non-null  int64  \n",
      " 6   DEPARTING_AIRPORT  601044 non-null  object \n",
      " 7   PRCP               601044 non-null  float64\n",
      " 8   SNOW               601044 non-null  float64\n",
      " 9   SNWD               601044 non-null  float64\n",
      " 10  TMAX               601044 non-null  float64\n",
      " 11  AWND               601044 non-null  float64\n",
      "dtypes: float64(5), int64(5), object(2)\n",
      "memory usage: 59.6+ MB\n"
     ]
    }
   ],
   "source": [
    "# Drop unnecessary columns and display column information \n",
    "cols_to_drop = ['SEGMENT_NUMBER', 'NUMBER_OF_SEATS', 'FLT_ATTENDANTS_PER_PASS', 'AVG_MONTHLY_PASS_AIRPORT', \n",
    "                'GROUND_SERV_PER_PASS', 'AIRLINE_AIRPORT_FLIGHTS_MONTH', 'PREVIOUS_AIRPORT', 'AVG_MONTHLY_PASS_AIRLINE',\n",
    "                'LATITUDE', 'LONGITUDE', 'CARRIER_NAME', 'CONCURRENT_FLIGHTS', 'AIRPORT_FLIGHTS_MONTH', 'AIRLINE_FLIGHTS_MONTH']\n",
    "data2 = data2.drop(cols_to_drop, axis=1)\n",
    "data2.info()"
   ]
  },
  {
   "cell_type": "markdown",
   "metadata": {},
   "source": [
    "Now that the columns have been reduced, I will look to do the same with the rows by dropping any duplicates that exist in my dataset. I will also rename some of the column names for easier comprehension, moving forward, and then shift the target column to the end of my dataframe."
   ]
  },
  {
   "cell_type": "code",
   "execution_count": 10,
   "metadata": {},
   "outputs": [
    {
     "data": {
      "text/plain": [
       "18105"
      ]
     },
     "execution_count": 10,
     "metadata": {},
     "output_type": "execute_result"
    }
   ],
   "source": [
    "# Find the number of duplicate records\n",
    "data2.duplicated().sum()"
   ]
  },
  {
   "cell_type": "code",
   "execution_count": 11,
   "metadata": {},
   "outputs": [],
   "source": [
    "# Drop duplicates\n",
    "data2.drop_duplicates(inplace=True)"
   ]
  },
  {
   "cell_type": "code",
   "execution_count": 12,
   "metadata": {
    "scrolled": false
   },
   "outputs": [
    {
     "data": {
      "text/html": [
       "<div>\n",
       "<style scoped>\n",
       "    .dataframe tbody tr th:only-of-type {\n",
       "        vertical-align: middle;\n",
       "    }\n",
       "\n",
       "    .dataframe tbody tr th {\n",
       "        vertical-align: top;\n",
       "    }\n",
       "\n",
       "    .dataframe thead th {\n",
       "        text-align: right;\n",
       "    }\n",
       "</style>\n",
       "<table border=\"1\" class=\"dataframe\">\n",
       "  <thead>\n",
       "    <tr style=\"text-align: right;\">\n",
       "      <th></th>\n",
       "      <th>MONTH</th>\n",
       "      <th>DAY_OF_WEEK</th>\n",
       "      <th>DELAYED</th>\n",
       "      <th>DEP_TIME_BLK</th>\n",
       "      <th>DISTANCE_GROUP</th>\n",
       "      <th>PLANE_AGE</th>\n",
       "      <th>DEPARTING_AIRPORT</th>\n",
       "      <th>PRECIPITATION</th>\n",
       "      <th>SNOW</th>\n",
       "      <th>SNOW_ON_GROUND</th>\n",
       "      <th>MAX_TEMP_FOR_DAY</th>\n",
       "      <th>MAX_WIND_FOR_DAY</th>\n",
       "    </tr>\n",
       "  </thead>\n",
       "  <tbody>\n",
       "    <tr>\n",
       "      <th>21</th>\n",
       "      <td>1</td>\n",
       "      <td>7</td>\n",
       "      <td>0</td>\n",
       "      <td>0800-0859</td>\n",
       "      <td>2</td>\n",
       "      <td>6</td>\n",
       "      <td>McCarran International</td>\n",
       "      <td>0.0</td>\n",
       "      <td>0.0</td>\n",
       "      <td>0.0</td>\n",
       "      <td>65.0</td>\n",
       "      <td>2.91</td>\n",
       "    </tr>\n",
       "    <tr>\n",
       "      <th>22</th>\n",
       "      <td>1</td>\n",
       "      <td>7</td>\n",
       "      <td>0</td>\n",
       "      <td>0800-0859</td>\n",
       "      <td>3</td>\n",
       "      <td>22</td>\n",
       "      <td>McCarran International</td>\n",
       "      <td>0.0</td>\n",
       "      <td>0.0</td>\n",
       "      <td>0.0</td>\n",
       "      <td>65.0</td>\n",
       "      <td>2.91</td>\n",
       "    </tr>\n",
       "    <tr>\n",
       "      <th>23</th>\n",
       "      <td>1</td>\n",
       "      <td>7</td>\n",
       "      <td>0</td>\n",
       "      <td>0900-0959</td>\n",
       "      <td>7</td>\n",
       "      <td>3</td>\n",
       "      <td>McCarran International</td>\n",
       "      <td>0.0</td>\n",
       "      <td>0.0</td>\n",
       "      <td>0.0</td>\n",
       "      <td>65.0</td>\n",
       "      <td>2.91</td>\n",
       "    </tr>\n",
       "    <tr>\n",
       "      <th>24</th>\n",
       "      <td>1</td>\n",
       "      <td>7</td>\n",
       "      <td>1</td>\n",
       "      <td>1000-1059</td>\n",
       "      <td>3</td>\n",
       "      <td>19</td>\n",
       "      <td>McCarran International</td>\n",
       "      <td>0.0</td>\n",
       "      <td>0.0</td>\n",
       "      <td>0.0</td>\n",
       "      <td>65.0</td>\n",
       "      <td>2.91</td>\n",
       "    </tr>\n",
       "    <tr>\n",
       "      <th>25</th>\n",
       "      <td>1</td>\n",
       "      <td>7</td>\n",
       "      <td>0</td>\n",
       "      <td>0600-0659</td>\n",
       "      <td>7</td>\n",
       "      <td>4</td>\n",
       "      <td>McCarran International</td>\n",
       "      <td>0.0</td>\n",
       "      <td>0.0</td>\n",
       "      <td>0.0</td>\n",
       "      <td>65.0</td>\n",
       "      <td>2.91</td>\n",
       "    </tr>\n",
       "  </tbody>\n",
       "</table>\n",
       "</div>"
      ],
      "text/plain": [
       "    MONTH  DAY_OF_WEEK  DELAYED DEP_TIME_BLK  DISTANCE_GROUP  PLANE_AGE  \\\n",
       "21      1            7        0    0800-0859               2          6   \n",
       "22      1            7        0    0800-0859               3         22   \n",
       "23      1            7        0    0900-0959               7          3   \n",
       "24      1            7        1    1000-1059               3         19   \n",
       "25      1            7        0    0600-0659               7          4   \n",
       "\n",
       "         DEPARTING_AIRPORT  PRECIPITATION  SNOW  SNOW_ON_GROUND  \\\n",
       "21  McCarran International            0.0   0.0             0.0   \n",
       "22  McCarran International            0.0   0.0             0.0   \n",
       "23  McCarran International            0.0   0.0             0.0   \n",
       "24  McCarran International            0.0   0.0             0.0   \n",
       "25  McCarran International            0.0   0.0             0.0   \n",
       "\n",
       "    MAX_TEMP_FOR_DAY  MAX_WIND_FOR_DAY  \n",
       "21              65.0              2.91  \n",
       "22              65.0              2.91  \n",
       "23              65.0              2.91  \n",
       "24              65.0              2.91  \n",
       "25              65.0              2.91  "
      ]
     },
     "execution_count": 12,
     "metadata": {},
     "output_type": "execute_result"
    }
   ],
   "source": [
    "# Rename the columns for easier comprehension & list the first 5 records\n",
    "new_col_names = {'DEP_DEL15': 'DELAYED',\n",
    "                'PRCP': 'PRECIPITATION',\n",
    "                'SNWD': 'SNOW_ON_GROUND',\n",
    "                'TMAX': 'MAX_TEMP_FOR_DAY',\n",
    "                'AWND': 'MAX_WIND_FOR_DAY'}\n",
    "data2 = data2.rename(new_col_names, axis=1)\n",
    "data2.head()"
   ]
  },
  {
   "cell_type": "code",
   "execution_count": 13,
   "metadata": {
    "scrolled": true
   },
   "outputs": [
    {
     "data": {
      "text/html": [
       "<div>\n",
       "<style scoped>\n",
       "    .dataframe tbody tr th:only-of-type {\n",
       "        vertical-align: middle;\n",
       "    }\n",
       "\n",
       "    .dataframe tbody tr th {\n",
       "        vertical-align: top;\n",
       "    }\n",
       "\n",
       "    .dataframe thead th {\n",
       "        text-align: right;\n",
       "    }\n",
       "</style>\n",
       "<table border=\"1\" class=\"dataframe\">\n",
       "  <thead>\n",
       "    <tr style=\"text-align: right;\">\n",
       "      <th></th>\n",
       "      <th>MONTH</th>\n",
       "      <th>DAY_OF_WEEK</th>\n",
       "      <th>DEP_TIME_BLK</th>\n",
       "      <th>DISTANCE_GROUP</th>\n",
       "      <th>PLANE_AGE</th>\n",
       "      <th>DEPARTING_AIRPORT</th>\n",
       "      <th>PRECIPITATION</th>\n",
       "      <th>SNOW</th>\n",
       "      <th>SNOW_ON_GROUND</th>\n",
       "      <th>MAX_TEMP_FOR_DAY</th>\n",
       "      <th>MAX_WIND_FOR_DAY</th>\n",
       "      <th>DELAYED</th>\n",
       "    </tr>\n",
       "  </thead>\n",
       "  <tbody>\n",
       "    <tr>\n",
       "      <th>21</th>\n",
       "      <td>1</td>\n",
       "      <td>7</td>\n",
       "      <td>0800-0859</td>\n",
       "      <td>2</td>\n",
       "      <td>6</td>\n",
       "      <td>McCarran International</td>\n",
       "      <td>0.0</td>\n",
       "      <td>0.0</td>\n",
       "      <td>0.0</td>\n",
       "      <td>65.0</td>\n",
       "      <td>2.91</td>\n",
       "      <td>0</td>\n",
       "    </tr>\n",
       "    <tr>\n",
       "      <th>22</th>\n",
       "      <td>1</td>\n",
       "      <td>7</td>\n",
       "      <td>0800-0859</td>\n",
       "      <td>3</td>\n",
       "      <td>22</td>\n",
       "      <td>McCarran International</td>\n",
       "      <td>0.0</td>\n",
       "      <td>0.0</td>\n",
       "      <td>0.0</td>\n",
       "      <td>65.0</td>\n",
       "      <td>2.91</td>\n",
       "      <td>0</td>\n",
       "    </tr>\n",
       "    <tr>\n",
       "      <th>23</th>\n",
       "      <td>1</td>\n",
       "      <td>7</td>\n",
       "      <td>0900-0959</td>\n",
       "      <td>7</td>\n",
       "      <td>3</td>\n",
       "      <td>McCarran International</td>\n",
       "      <td>0.0</td>\n",
       "      <td>0.0</td>\n",
       "      <td>0.0</td>\n",
       "      <td>65.0</td>\n",
       "      <td>2.91</td>\n",
       "      <td>0</td>\n",
       "    </tr>\n",
       "    <tr>\n",
       "      <th>24</th>\n",
       "      <td>1</td>\n",
       "      <td>7</td>\n",
       "      <td>1000-1059</td>\n",
       "      <td>3</td>\n",
       "      <td>19</td>\n",
       "      <td>McCarran International</td>\n",
       "      <td>0.0</td>\n",
       "      <td>0.0</td>\n",
       "      <td>0.0</td>\n",
       "      <td>65.0</td>\n",
       "      <td>2.91</td>\n",
       "      <td>1</td>\n",
       "    </tr>\n",
       "    <tr>\n",
       "      <th>25</th>\n",
       "      <td>1</td>\n",
       "      <td>7</td>\n",
       "      <td>0600-0659</td>\n",
       "      <td>7</td>\n",
       "      <td>4</td>\n",
       "      <td>McCarran International</td>\n",
       "      <td>0.0</td>\n",
       "      <td>0.0</td>\n",
       "      <td>0.0</td>\n",
       "      <td>65.0</td>\n",
       "      <td>2.91</td>\n",
       "      <td>0</td>\n",
       "    </tr>\n",
       "  </tbody>\n",
       "</table>\n",
       "</div>"
      ],
      "text/plain": [
       "    MONTH  DAY_OF_WEEK DEP_TIME_BLK  DISTANCE_GROUP  PLANE_AGE  \\\n",
       "21      1            7    0800-0859               2          6   \n",
       "22      1            7    0800-0859               3         22   \n",
       "23      1            7    0900-0959               7          3   \n",
       "24      1            7    1000-1059               3         19   \n",
       "25      1            7    0600-0659               7          4   \n",
       "\n",
       "         DEPARTING_AIRPORT  PRECIPITATION  SNOW  SNOW_ON_GROUND  \\\n",
       "21  McCarran International            0.0   0.0             0.0   \n",
       "22  McCarran International            0.0   0.0             0.0   \n",
       "23  McCarran International            0.0   0.0             0.0   \n",
       "24  McCarran International            0.0   0.0             0.0   \n",
       "25  McCarran International            0.0   0.0             0.0   \n",
       "\n",
       "    MAX_TEMP_FOR_DAY  MAX_WIND_FOR_DAY  DELAYED  \n",
       "21              65.0              2.91        0  \n",
       "22              65.0              2.91        0  \n",
       "23              65.0              2.91        0  \n",
       "24              65.0              2.91        1  \n",
       "25              65.0              2.91        0  "
      ]
     },
     "execution_count": 13,
     "metadata": {},
     "output_type": "execute_result"
    }
   ],
   "source": [
    "# Shift the target column to the end \n",
    "cols_at_end = ['DELAYED']\n",
    "data2 = data2[[col for col in data2 if col not in cols_at_end] \n",
    "        + [col for col in cols_at_end if col in data2]]\n",
    "\n",
    "# Preview the first 5 records to confirm the change\n",
    "data2.head()"
   ]
  },
  {
   "cell_type": "markdown",
   "metadata": {},
   "source": [
    "Now that the dataset has been cleaned up, I want to take a look at the distributions of both the features and the target. This will give me an idea of whether a class imbalance exists (which I suspect there does), and how the feature data is distributed within that imbalance. I'll start by getting a count of the records, based on the `'MONTH'` and `'DAY_OF_WEEK'` features. I plot these value counts, but I divide them based on the target variable - labeling the bars as `'Not Delayed'` or `'Delayed'`."
   ]
  },
  {
   "cell_type": "code",
   "execution_count": 14,
   "metadata": {},
   "outputs": [
    {
     "data": {
      "text/plain": [
       "1     43189\n",
       "2     40457\n",
       "3     49824\n",
       "4     49038\n",
       "5     51038\n",
       "6     50529\n",
       "7     52122\n",
       "8     52538\n",
       "9     47786\n",
       "10    51477\n",
       "11    46880\n",
       "12    48061\n",
       "Name: MONTH, dtype: int64"
      ]
     },
     "execution_count": 14,
     "metadata": {},
     "output_type": "execute_result"
    }
   ],
   "source": [
    "# Break down the records by month\n",
    "data2['MONTH'].value_counts().sort_index()"
   ]
  },
  {
   "cell_type": "code",
   "execution_count": 15,
   "metadata": {},
   "outputs": [
    {
     "data": {
      "text/plain": [
       "1    86421\n",
       "2    85043\n",
       "3    84471\n",
       "4    84973\n",
       "5    86153\n",
       "6    73156\n",
       "7    82722\n",
       "Name: DAY_OF_WEEK, dtype: int64"
      ]
     },
     "execution_count": 15,
     "metadata": {},
     "output_type": "execute_result"
    }
   ],
   "source": [
    "# Break down the records by days of the week\n",
    "data2['DAY_OF_WEEK'].value_counts().sort_index()"
   ]
  },
  {
   "cell_type": "code",
   "execution_count": 16,
   "metadata": {
    "scrolled": false
   },
   "outputs": [
    {
     "data": {
      "image/png": "[encoded data removed]",
      "text/plain": [
       "<Figure size 1296x864 with 2 Axes>"
      ]
     },
     "metadata": {},
     "output_type": "display_data"
    }
   ],
   "source": [
    "# Plot feature distributions\n",
    "\n",
    "# Create month and days list objects\n",
    "months = ['January', 'February', 'March', 'April', 'May', 'June',\n",
    "         'July', 'August', 'September', 'October', 'November', 'December']\n",
    "days = ['Sunday', 'Monday', 'Tuesday', 'Wednesday', 'Thursday', 'Friday', 'Saturday']\n",
    "\n",
    "# Visualize the delay status by month\n",
    "fig, ax = plt.subplots(1, 2, figsize=(18, 12))\n",
    "plot1 = sns.histplot(data2, x='MONTH', hue='DELAYED', ax=ax[0], palette='bright', discrete=True)\n",
    "\n",
    "# Change the legend labels\n",
    "new_title = 'Delay Status'\n",
    "plot1.legend_.set_title(new_title)\n",
    "new_labels = ['Not Delayed', 'Delayed']\n",
    "for t, l in zip(plot1.legend_.texts, new_labels):\n",
    "    t.set_text(l)\n",
    "    \n",
    "# Add minor gridlines\n",
    "minor_locator = AutoMinorLocator(5)\n",
    "ax[0].yaxis.set_minor_locator(minor_locator)\n",
    "ax[0].set_axisbelow(True)\n",
    "plt.grid(which='both')\n",
    "ax[0].tick_params(which=\"both\", bottom=True)\n",
    "\n",
    "# Change x-tick labels to months (written form) and rotate the labels\n",
    "old_labels = [1, 2, 3, 4, 5, 6, 7, 8, 9, 10, 11, 12]\n",
    "ax[0].set_xticks(old_labels)\n",
    "ax[0].set_xticklabels(months)\n",
    "ax[0].tick_params(axis='x', labelrotation=35)\n",
    "ax[0].set_xlabel(\"Months\")\n",
    "ax[0].set_title(\"The Number of Delayed and Not-Delayed Flights by Month\")\n",
    "    \n",
    "# Visualize the delay status by days of the week    \n",
    "plot2 = sns.histplot(data2, x='DAY_OF_WEEK', hue='DELAYED', ax=ax[1], palette='bright', discrete=True)\n",
    "\n",
    "# Change the legend labels\n",
    "new_title = 'Delay Status'\n",
    "plot2.legend_.set_title(new_title)\n",
    "new_labels = ['Not Delayed', 'Delayed']\n",
    "for t, l in zip(plot2.legend_.texts, new_labels):\n",
    "    t.set_text(l)\n",
    "\n",
    "# Add minor gridlines\n",
    "minor_locator = AutoMinorLocator(5)\n",
    "ax[1].yaxis.set_minor_locator(minor_locator)\n",
    "ax[1].set_axisbelow(True)\n",
    "plt.grid(which='both')\n",
    "\n",
    "# Change x-tick labels to days (written form)\n",
    "old_labels = [1, 2, 3, 4, 5, 6, 7]\n",
    "ax[1].set_xticks(old_labels)\n",
    "ax[1].set_xticklabels(days)\n",
    "ax[1].set_xlabel(\"Days of the Week\")\n",
    "ax[1].set_title(\"The Number of Delayed and Not-Delayed Flights by Day of the Week\");"
   ]
  },
  {
   "cell_type": "markdown",
   "metadata": {},
   "source": [
    "Based on the visuals above, I see that there definitely exists a class imbalance in the dataset. In regard to the features, the first plot suggests that the summer months tend to see the highest number of delays, while the colder months seem to see less. In the second plot, the delays are highest on Wednesdays; although, the data seems to have low variation between the days of the week. \n",
    "\n",
    "The next few features are the `'DEP_TIME_BLK'` and the `'DISTANCE_GROUP'` columns. The first feature lists the time blocks for United Airlines flights, ranging from midnight (`'0001'`) to 11:59pm, and separated into hour blocks (except for the first block). The second feature lists all 11 distance groups, where the first group travels the shortest distance, and the eleventh group travels the farthest. "
   ]
  },
  {
   "cell_type": "code",
   "execution_count": 17,
   "metadata": {
    "scrolled": true
   },
   "outputs": [
    {
     "data": {
      "text/plain": [
       "0001-0559    10189\n",
       "0600-0659    42020\n",
       "0700-0759    47223\n",
       "0800-0859    42906\n",
       "0900-0959    36314\n",
       "1000-1059    35549\n",
       "1100-1159    34927\n",
       "1200-1259    35124\n",
       "1300-1359    28503\n",
       "1400-1459    33245\n",
       "1500-1559    30224\n",
       "1600-1659    35246\n",
       "1700-1759    35880\n",
       "1800-1859    36416\n",
       "1900-1959    33797\n",
       "2000-2059    21716\n",
       "2100-2159    19542\n",
       "2200-2259    12919\n",
       "2300-2359    11199\n",
       "Name: DEP_TIME_BLK, dtype: int64"
      ]
     },
     "execution_count": 17,
     "metadata": {},
     "output_type": "execute_result"
    }
   ],
   "source": [
    "# Break down the records by departure time blocks\n",
    "data2['DEP_TIME_BLK'].value_counts().sort_index()"
   ]
  },
  {
   "cell_type": "code",
   "execution_count": 18,
   "metadata": {
    "scrolled": true
   },
   "outputs": [
    {
     "data": {
      "text/plain": [
       "1      29818\n",
       "2      66963\n",
       "3      80728\n",
       "4     112096\n",
       "5      65293\n",
       "6      46784\n",
       "7      60650\n",
       "8      23843\n",
       "9      16293\n",
       "10     50679\n",
       "11     29792\n",
       "Name: DISTANCE_GROUP, dtype: int64"
      ]
     },
     "execution_count": 18,
     "metadata": {},
     "output_type": "execute_result"
    }
   ],
   "source": [
    "# Break down the records by distance group\n",
    "data2['DISTANCE_GROUP'].value_counts().sort_index()"
   ]
  },
  {
   "cell_type": "code",
   "execution_count": 19,
   "metadata": {},
   "outputs": [
    {
     "data": {
      "image/png": "[encoded data removed]",
      "text/plain": [
       "<Figure size 1296x864 with 2 Axes>"
      ]
     },
     "metadata": {},
     "output_type": "display_data"
    }
   ],
   "source": [
    "# Plot feature distributions\n",
    "fig, ax = plt.subplots(1, 2, figsize=(18, 12))\n",
    "\n",
    "# Visualize the delay status by departure time block\n",
    "plot3 = sns.histplot(data2, x='DEP_TIME_BLK', hue='DELAYED', ax=ax[0], palette='bright', discrete=True)\n",
    "\n",
    "# Change legend labels\n",
    "new_title = 'Delay Status'\n",
    "plot3.legend_.set_title(new_title)\n",
    "new_labels = ['Not Delayed', 'Delayed']\n",
    "for t, l in zip(plot3.legend_.texts, new_labels):\n",
    "    t.set_text(l)\n",
    "\n",
    "# Add minor gridlines\n",
    "minor_locator = AutoMinorLocator(5)\n",
    "ax[0].yaxis.set_minor_locator(minor_locator)\n",
    "ax[0].set_axisbelow(True)\n",
    "plt.grid(which='both')\n",
    "\n",
    "# Rotate x-tick labels\n",
    "ax[0].tick_params(axis='x', labelrotation=75)\n",
    "ax[0].tick_params(which=\"both\", bottom=True)\n",
    "ax[0].set_xlabel(\"Departure Time Blocks\")\n",
    "ax[0].set_title(\"The Number of Delayed and Not-Delayed Flights by Departure Block\")\n",
    "    \n",
    "# Visualize the delay status by distance group  \n",
    "plot4 = sns.histplot(data2, x='DISTANCE_GROUP', hue='DELAYED', ax=ax[1], palette='bright', discrete=True)\n",
    "\n",
    "# Change legend labels\n",
    "new_title = 'Delay Status'\n",
    "plot4.legend_.set_title(new_title)\n",
    "new_labels = ['Not Delayed', 'Delayed']\n",
    "for t, l in zip(plot4.legend_.texts, new_labels):\n",
    "    t.set_text(l)\n",
    "    \n",
    "# Add minor gridlines\n",
    "minor_locator = AutoMinorLocator(5)\n",
    "ax[1].yaxis.set_minor_locator(minor_locator)\n",
    "ax[1].set_axisbelow(True)\n",
    "plt.grid(which='both')\n",
    "\n",
    "# Change x-tick labels to distance group (written form)\n",
    "num_xlabels = [1, 2, 3, 4, 5, 6, 7, 8, 9, 10, 11]\n",
    "str_xlabels = ['First', 'Second', 'Third', 'Fourth', 'Fifth', 'Sixth', 'Seventh', 'Eighth', 'Ninth', 'Tenth', 'Eleventh']\n",
    "ax[1].set_xticks(num_xlabels)\n",
    "ax[1].set_xticklabels(str_xlabels)\n",
    "ax[1].set_xlabel(\"Distance Group\")\n",
    "ax[1].set_title(\"The Number of Delayed and Not-Delayed Flights by Distance Group\");"
   ]
  },
  {
   "cell_type": "markdown",
   "metadata": {},
   "source": [
    "From what I see, the later time blocks (i.e., starting at 4pm to about 8pm) face the most delays. However, in the second visual, the third and fourth distance groups experience more delays, which is far less than those in higher distance groups. \n",
    "\n",
    "To be able to plot the rest of the features, I use both kdeplots and boxplots because the data within those columns are numerical and continuous in nature. I see that all six graphs contain outliers that affect the distribution one way or another, as well. "
   ]
  },
  {
   "cell_type": "code",
   "execution_count": 20,
   "metadata": {},
   "outputs": [
    {
     "data": {
      "image/png": "[encoded data removed]",
      "text/plain": [
       "<Figure size 1152x864 with 6 Axes>"
      ]
     },
     "metadata": {},
     "output_type": "display_data"
    }
   ],
   "source": [
    "# Plot the remaining continuous variables with the delay status \n",
    "fig, ax = plt.subplots(3, 2, figsize=(16, 12))\n",
    "kde1 = sns.kdeplot(data=data2, x=\"PRECIPITATION\", hue=\"DELAYED\", ax=ax[0,0])\n",
    "kde2 = sns.kdeplot(data=data2, x=\"SNOW\", hue=\"DELAYED\", ax=ax[0,1])\n",
    "kde3 = sns.kdeplot(data=data2, x=\"SNOW_ON_GROUND\", hue=\"DELAYED\", ax=ax[1,0])\n",
    "box1 = sns.boxplot(data=data2, x=\"PLANE_AGE\", y=\"DELAYED\", orient='h', ax=ax[1,1])\n",
    "box2 = sns.boxplot(data=data2, x=\"MAX_TEMP_FOR_DAY\", y=\"DELAYED\", orient='h', ax=ax[2,0])\n",
    "box3 = sns.boxplot(data=data2, x=\"MAX_WIND_FOR_DAY\", y=\"DELAYED\", orient='h', ax=ax[2,1]);\n",
    "\n",
    "# Change the legend in the kdeplots for better comprehension\n",
    "kdeplots = [kde1, kde2, kde3]\n",
    "for plot in kdeplots:\n",
    "    new_title = 'Delay Status'\n",
    "    plot.legend_.set_title(new_title)\n",
    "    new_labels = ['Not Delayed', 'Delayed']\n",
    "    for t, l in zip(plot.legend_.texts, new_labels):\n",
    "        t.set_text(l)\n",
    "    plot.set_xlim(-1, 6) \n",
    "\n",
    "# Change the y-axis label for the boxplots\n",
    "boxplots = [box1, box2, box3]\n",
    "for boxplot in boxplots:\n",
    "    boxplot.set(ylabel='Delay Status')"
   ]
  },
  {
   "cell_type": "markdown",
   "metadata": {},
   "source": [
    "It's time to examine the target, and confirm the class imbalance I mentioned earlier. First, I will plot my target as a bar plot, then as a pie chart. I plot both to show both the count and weight of each label in the dataset, respectively. "
   ]
  },
  {
   "cell_type": "code",
   "execution_count": 21,
   "metadata": {},
   "outputs": [
    {
     "data": {
      "image/png": "[encoded data removed]",
      "text/plain": [
       "<Figure size 864x720 with 1 Axes>"
      ]
     },
     "metadata": {},
     "output_type": "display_data"
    }
   ],
   "source": [
    "# Visualize the class (target) distribution\n",
    "fig, ax = plt.subplots(figsize=(12,10))\n",
    "\n",
    "# Add minor gridlines\n",
    "minor_locator = AutoMinorLocator(5)\n",
    "ax.yaxis.set_minor_locator(minor_locator)\n",
    "ax.set_axisbelow(True)\n",
    "plt.grid(which='both')\n",
    "\n",
    "# Plot the target \n",
    "sns.countplot(data=data2, x='DELAYED', orient='v')\n",
    "ax.set_title('Target Distribution')\n",
    "\n",
    "# Change x-tick labels and axis labels\n",
    "old_labels = [0, 1]\n",
    "new_xlabels = ['Not Delayed', 'Delayed']\n",
    "ax.set_xticks(old_labels)\n",
    "ax.set_xticklabels(new_xlabels)\n",
    "ax.set_xlabel(\"Flight Status\")\n",
    "ax.set_ylabel(\"Count\");"
   ]
  },
  {
   "cell_type": "markdown",
   "metadata": {},
   "source": [
    "The bar plot above further confirms my speculation of a class imbalance - showing over 460,000 flights as `'Not Delayed'` and a little under 120,000 as `'Delayed'` flights. The pie plot below reinforces this observation, but displays the weight of each label in the data. I see that out of 600,000 flights, close to 20% are delayed - this is quite high considering the high amount of flights taken in a year through United. According to the Bureau of Transportation, 18.72% of flights in 2019 were delayed (all carriers included), meaning United exceeded the industry average."
   ]
  },
  {
   "cell_type": "code",
   "execution_count": 22,
   "metadata": {},
   "outputs": [
    {
     "data": {
      "image/png": "[encoded data removed]",
      "text/plain": [
       "<Figure size 864x720 with 1 Axes>"
      ]
     },
     "metadata": {},
     "output_type": "display_data"
    }
   ],
   "source": [
    "# Create a pie plot to further visualize the class distribution\n",
    "fig, ax = plt.subplots(figsize=(12, 10))\n",
    "data2['DELAYED'].value_counts().plot.pie(autopct='%.2f', title='Class Distribution', \n",
    "                                        labels=['Not Delayed', 'Delayed'], colors=['orangered', 'royalblue'])\n",
    "ax.yaxis.set_visible(False);"
   ]
  },
  {
   "cell_type": "markdown",
   "metadata": {},
   "source": [
    "I feel I've gained sufficient insight into how my data is structured and distributed; so, now it's time to begin modeling and building my algorithm. "
   ]
  },
  {
   "cell_type": "markdown",
   "metadata": {},
   "source": [
    "### Further Preprocessing:\n",
    "In order to properly model my dataframe, I need to encode the categorical features into quanitative data. I can call scikit-learn's `OneHotEncoder` function to encode my five categorical columns into multiple, numerical columns; then list the shapes of all datasets to confirm the transformation. "
   ]
  },
  {
   "cell_type": "markdown",
   "metadata": {},
   "source": [
    "The dataset above will serve as my final dataframe, but I will also divide it into a training, testing and validation set. I will split the data 75/25, with 25% of the dataset reserved for the test set, and a seed set for reproducibility. Now, I will split the test data even further (by half, actually) into a smaller test set and a newly-formed validation set to iterate through my modeling process. I check the shape multiple times to be sure the data stays intact. "
   ]
  },
  {
   "cell_type": "code",
   "execution_count": 23,
   "metadata": {},
   "outputs": [
    {
     "data": {
      "text/plain": [
       "(437204, 11)"
      ]
     },
     "execution_count": 23,
     "metadata": {},
     "output_type": "execute_result"
    }
   ],
   "source": [
    "# Split the dataset into training and testing sets\n",
    "y = data2['DELAYED']\n",
    "X = data2.drop('DELAYED', axis=1)\n",
    "\n",
    "X_train, X_test, y_train, y_test = train_test_split(X, y, test_size=.25, random_state=seed)\n",
    "X_train.shape"
   ]
  },
  {
   "cell_type": "code",
   "execution_count": 24,
   "metadata": {},
   "outputs": [
    {
     "data": {
      "text/plain": [
       "(72868, 11)"
      ]
     },
     "execution_count": 24,
     "metadata": {},
     "output_type": "execute_result"
    }
   ],
   "source": [
    "# Split the test dataset in half to create a validation dataset\n",
    "X_test, X_val, y_test, y_val = train_test_split(X_test, y_test, test_size=.5, random_state=seed)\n",
    "X_val.shape"
   ]
  },
  {
   "cell_type": "markdown",
   "metadata": {},
   "source": [
    "Now that the data's been split, I can begin encoding each dataset separately. The test set will act as my \"unseen data\" and will be reserved for my final evaluation. As stated earlier, I will list the shapes just for peace of mind. "
   ]
  },
  {
   "cell_type": "code",
   "execution_count": 25,
   "metadata": {},
   "outputs": [],
   "source": [
    "# Encode categorical features\n",
    "cols_to_encode = ['MONTH', 'DAY_OF_WEEK', 'DEP_TIME_BLK', 'DISTANCE_GROUP', 'DEPARTING_AIRPORT']\n",
    "ohe = OneHotEncoder(handle_unknown='ignore')\n",
    "ohe.fit(X_train[cols_to_encode])\n",
    "new_train_df = pd.DataFrame(ohe.transform(X_train[cols_to_encode]).todense(), \n",
    "                            columns=ohe.get_feature_names(), index=X_train.index)\n",
    "X_train = pd.concat([X_train, new_train_df], axis=1).drop(cols_to_encode, axis=1)"
   ]
  },
  {
   "cell_type": "code",
   "execution_count": 26,
   "metadata": {},
   "outputs": [],
   "source": [
    "val_df = pd.DataFrame(ohe.transform(X_val[cols_to_encode]).todense(), \n",
    "                      columns=ohe.get_feature_names(), index=X_val.index)\n",
    "X_val = pd.concat([X_val.drop(cols_to_encode, axis=1), val_df], axis=1)"
   ]
  },
  {
   "cell_type": "code",
   "execution_count": 27,
   "metadata": {},
   "outputs": [],
   "source": [
    "test_df = pd.DataFrame(ohe.transform(X_test[cols_to_encode]).todense(), \n",
    "                      columns=ohe.get_feature_names(), index=X_test.index)\n",
    "X_test = pd.concat([X_test.drop(cols_to_encode, axis=1), test_df], axis=1)"
   ]
  },
  {
   "cell_type": "code",
   "execution_count": 28,
   "metadata": {},
   "outputs": [
    {
     "name": "stdout",
     "output_type": "stream",
     "text": [
      "(437204, 138)\n",
      "(72868, 138)\n",
      "(72867, 138)\n"
     ]
    }
   ],
   "source": [
    "# List the first five records to confirm the transformation\n",
    "print(X_train.shape)\n",
    "print(X_val.shape)\n",
    "print(X_test.shape)"
   ]
  },
  {
   "cell_type": "markdown",
   "metadata": {},
   "source": [
    "Given the initial class imbalance, I need to apply a sampling technique - specifically, oversampling (SMOTE) - to augment the minority class (`'Delayed'`) in my target to an even ratio with the majority class (`'Not Delayed'`). I use the `Counter` function to show this change. I also plot the pie chart to display the new class weights, but this time expecting an even ratio."
   ]
  },
  {
   "cell_type": "code",
   "execution_count": 29,
   "metadata": {},
   "outputs": [
    {
     "name": "stdout",
     "output_type": "stream",
     "text": [
      "Before sampling:  Counter({0: 350513, 1: 86691})\n",
      "After sampling:  Counter({0: 350513, 1: 350513})\n"
     ]
    }
   ],
   "source": [
    "# Count the number of classes before oversampling\n",
    "counter = Counter(y_train)\n",
    "print('Before sampling: ', counter)\n",
    "\n",
    "# Instantiate the SMOTE function and oversample the training data\n",
    "smt = SMOTE(random_state=seed) \n",
    "X_train_res, y_train_res = smt.fit_resample(X_train, y_train)\n",
    "\n",
    "# Count the number of classes after oversampling\n",
    "counter_res = Counter(y_train_res)\n",
    "print('After sampling: ', counter_res)"
   ]
  },
  {
   "cell_type": "code",
   "execution_count": 30,
   "metadata": {},
   "outputs": [
    {
     "data": {
      "image/png": "[encoded data removed]",
      "text/plain": [
       "<Figure size 864x720 with 1 Axes>"
      ]
     },
     "metadata": {},
     "output_type": "display_data"
    }
   ],
   "source": [
    "# Visualize the balanced class distribution\n",
    "fig, ax = plt.subplots(figsize=(12, 10))\n",
    "y_train_res.value_counts().plot.pie(autopct='%.2f', title='Class Distribution in the Training Data', \n",
    "                                        labels=['Not Delayed', 'Delayed'], colors=['orangered', 'royalblue'])\n",
    "ax.yaxis.set_visible(False);"
   ]
  },
  {
   "cell_type": "markdown",
   "metadata": {},
   "source": [
    "As shown above, the SMOTE method worked! To see just how much my training data has grown, I print the shape of the training data below. I see that the dataset now has **701,026 observations** to train my model on, and that the features remained intact. This increase in observations should improve my modeling performance and help me avoid any issues or controversy in results. The downside to this is the long run times I'm sure to experience due to my computational constraints."
   ]
  },
  {
   "cell_type": "code",
   "execution_count": 31,
   "metadata": {},
   "outputs": [
    {
     "data": {
      "text/plain": [
       "(701026, 138)"
      ]
     },
     "execution_count": 31,
     "metadata": {},
     "output_type": "execute_result"
    }
   ],
   "source": [
    "# Print the balanced training data's shape\n",
    "X_train_res.shape"
   ]
  },
  {
   "cell_type": "markdown",
   "metadata": {},
   "source": [
    "## Modeling\n",
    "\n",
    "Now it's time to begin modeling! I will create a few baseline models, to start, then cross-validate 4 different classifiers, and evaluate them based on precision, recall, and f1 scores. As a reminder, my main focus is to improve precision, which effects the number of false positive predictions. The false positive count, in this case, represents the amount of on-time flights predicted as delays. This could be detrimental if not addressed properly; the model could spread misinformation, and cause passengers to miss their on-time flights. This would lead to further client disapproval, and hurt United's sales and reputation. However, I will still track the recall score, and the f1 score, which is the harmonic mean of precision and recall. The baseline model with the best trio of average metric scores will be selected to undergo hyperparameter tuning and further evaluation.\n",
    "\n",
    "### Baseline Modeling:\n",
    "\n",
    "I will begin by using scikit-learn's `make_pipeline` function in order to pass a scaler and a classifier into my pipeline(s). I use this function over the library's long form version to avoid naming the estimators. I cross-validate these pipelines in 3 folds, then take the average of each score and print them for each classifier. "
   ]
  },
  {
   "cell_type": "code",
   "execution_count": 32,
   "metadata": {},
   "outputs": [
    {
     "name": "stdout",
     "output_type": "stream",
     "text": [
      "Validation precision, recall and f1 scores for Decision Tree: [0.8416852479470313, 0.7756237594173561, 0.7595007602911071]\n",
      "\n",
      "Validation precision, recall and f1 scores for Random Forest: [0.9313695562886423, 0.7666883474008875, 0.7864523707153354]\n",
      "\n",
      "Validation precision, recall and f1 scores for AdaBoost: [0.8480503638132815, 0.691946367820922, 0.715686314340466]\n",
      "\n",
      "Validation precision, recall and f1 scores for Gradient Boosting: [0.9371740386968425, 0.7141624780031419, 0.7516701938488651]\n",
      "\n"
     ]
    }
   ],
   "source": [
    "# Make two lists, one containing classifier names and the other containing the classifiers\n",
    "classifier_names = ['Decision Tree', 'Random Forest', 'AdaBoost', 'Gradient Boosting']\n",
    "classifiers = [DecisionTreeClassifier(random_state=seed), RandomForestClassifier(random_state=seed), \n",
    "               AdaBoostClassifier(random_state=seed), GradientBoostingClassifier(random_state=seed)]\n",
    "\n",
    "# Loop through the two lists to create a pipeline, cross-validate the model, and print the relevant scores\n",
    "for name, classifier in zip(classifier_names, classifiers):\n",
    "    pipe = make_pipeline((MinMaxScaler()),\n",
    "                          (classifier))\n",
    "    score = cross_validate(pipe, X_train_res, y_train_res, cv=3, scoring=['precision', 'recall', 'f1'])\n",
    "    model_scores = []\n",
    "    keys = ['test_precision', 'test_recall', 'test_f1']\n",
    "    for key in keys:\n",
    "        model_scores.append(np.mean(score[key]))\n",
    "    print(\"Validation precision, recall and f1 scores for {}: {}\\n\".format(name, model_scores))"
   ]
  },
  {
   "cell_type": "markdown",
   "metadata": {},
   "source": [
    "Based on the scores listed above, it seems that the Random Forest classifier outperforms the field, which eliminates the other models from further iteration. The Random Forest classifier is 93.1% precise, which is slightly lower than the Gradient Boosting model's score, but negligible enough that we can still go with the former. We can also justify this decision by taking a look at the two other metrics - the f1 score & the recall. As shown above, the Random Forest's set of scores are the highest among the four; thus, we can feel safe about selecting it as the \"best\" model for further analysis.  \n",
    "\n",
    "93.1% validation precision is fantastic as a baseline, but also could be a sign that my model is overfitting. My next step will be trying to improve this start with some hyperparameter tuning. "
   ]
  },
  {
   "cell_type": "markdown",
   "metadata": {},
   "source": [
    "### Tuning the \"Best\" Baseline Model:\n",
    "\n",
    "In order to keep in line with the business objectives, I need to set the `scoring` parameter to the three metrics I have been tracking so far. I will create a dictionary object that holds these three scores, and pass it into the `GridSearchCV` function. I will also pass a pipeline (long form this time) into the function, that will apply `MinMaxScaler` and my chosen classifier over the folds (in this case, 3) from the exhaustive grid search process. Because I'm using scikit-learn's long form pipeline function, it's vital I name each estimator in the steps parameter. My last step before fitting the grid search object is to create a parameter grid for the function to circulate through. It's important I don't forget to put the classifier name I choose as a prefix followed by two underscores before each parameter name in order to avoid error. Once I've set all the relevant parameters, I fit the grid search object.\n",
    "\n",
    ">Note: Due to the number of fits, and depending on the computational constraints, this code can take over **2 hours** to fully run!"
   ]
  },
  {
   "cell_type": "code",
   "execution_count": 33,
   "metadata": {},
   "outputs": [],
   "source": [
    "# Create a dictionary of relevant scoring metrics\n",
    "scorers = {'precision_score': make_scorer(precision_score), \n",
    "           'recall_score': make_scorer(recall_score),\n",
    "           'f1_score': make_scorer(f1_score)}\n",
    "\n",
    "# Create a Pipeline with a scaler and classifier step\n",
    "rf_pipe = Pipeline(steps=[('scaler', MinMaxScaler()),\n",
    "                          ('classifier', RandomForestClassifier(random_state=seed))])\n",
    "\n",
    "# Create a parameter grid for the Random Forest Classifier\n",
    "rf_param_grid = {'classifier__n_estimators': [50, 100, 125], \n",
    "                 'classifier__max_depth': [None, 10, 20], \n",
    "                 'classifier__min_samples_leaf': [5, 10, 15]}\n",
    "\n",
    "# Instantiate the GridSearchCV function with the 'refit' parameter set to 'precision_score'\n",
    "rf_gridsearch = GridSearchCV(rf_pipe, rf_param_grid, scoring=scorers,\n",
    "                              refit='precision_score', verbose=3, cv=3)"
   ]
  },
  {
   "cell_type": "code",
   "execution_count": 34,
   "metadata": {
    "scrolled": true
   },
   "outputs": [
    {
     "name": "stdout",
     "output_type": "stream",
     "text": [
      "Fitting 3 folds for each of 27 candidates, totalling 81 fits\n",
      "[CV] classifier__max_depth=None, classifier__min_samples_leaf=5, classifier__n_estimators=50 \n"
     ]
    },
    {
     "name": "stderr",
     "output_type": "stream",
     "text": [
      "[Parallel(n_jobs=1)]: Using backend SequentialBackend with 1 concurrent workers.\n"
     ]
    },
    {
     "name": "stdout",
     "output_type": "stream",
     "text": [
      "[CV]  classifier__max_depth=None, classifier__min_samples_leaf=5, classifier__n_estimators=50, f1_score=0.423, precision_score=0.989, recall_score=0.269, total= 1.5min\n",
      "[CV] classifier__max_depth=None, classifier__min_samples_leaf=5, classifier__n_estimators=50 \n"
     ]
    },
    {
     "name": "stderr",
     "output_type": "stream",
     "text": [
      "[Parallel(n_jobs=1)]: Done   1 out of   1 | elapsed:  1.5min remaining:    0.0s\n"
     ]
    },
    {
     "name": "stdout",
     "output_type": "stream",
     "text": [
      "[CV]  classifier__max_depth=None, classifier__min_samples_leaf=5, classifier__n_estimators=50, f1_score=0.961, precision_score=0.941, recall_score=0.982, total= 1.7min\n",
      "[CV] classifier__max_depth=None, classifier__min_samples_leaf=5, classifier__n_estimators=50 \n"
     ]
    },
    {
     "name": "stderr",
     "output_type": "stream",
     "text": [
      "[Parallel(n_jobs=1)]: Done   2 out of   2 | elapsed:  3.2min remaining:    0.0s\n"
     ]
    },
    {
     "name": "stdout",
     "output_type": "stream",
     "text": [
      "[CV]  classifier__max_depth=None, classifier__min_samples_leaf=5, classifier__n_estimators=50, f1_score=0.960, precision_score=0.941, recall_score=0.981, total= 1.7min\n",
      "[CV] classifier__max_depth=None, classifier__min_samples_leaf=5, classifier__n_estimators=100 \n",
      "[CV]  classifier__max_depth=None, classifier__min_samples_leaf=5, classifier__n_estimators=100, f1_score=0.422, precision_score=0.990, recall_score=0.268, total= 3.0min\n",
      "[CV] classifier__max_depth=None, classifier__min_samples_leaf=5, classifier__n_estimators=100 \n",
      "[CV]  classifier__max_depth=None, classifier__min_samples_leaf=5, classifier__n_estimators=100, f1_score=0.962, precision_score=0.942, recall_score=0.982, total= 3.3min\n",
      "[CV] classifier__max_depth=None, classifier__min_samples_leaf=5, classifier__n_estimators=100 \n",
      "[CV]  classifier__max_depth=None, classifier__min_samples_leaf=5, classifier__n_estimators=100, f1_score=0.962, precision_score=0.943, recall_score=0.982, total= 3.3min\n",
      "[CV] classifier__max_depth=None, classifier__min_samples_leaf=5, classifier__n_estimators=125 \n",
      "[CV]  classifier__max_depth=None, classifier__min_samples_leaf=5, classifier__n_estimators=125, f1_score=0.423, precision_score=0.990, recall_score=0.269, total= 3.8min\n",
      "[CV] classifier__max_depth=None, classifier__min_samples_leaf=5, classifier__n_estimators=125 \n",
      "[CV]  classifier__max_depth=None, classifier__min_samples_leaf=5, classifier__n_estimators=125, f1_score=0.962, precision_score=0.942, recall_score=0.983, total= 4.1min\n",
      "[CV] classifier__max_depth=None, classifier__min_samples_leaf=5, classifier__n_estimators=125 \n",
      "[CV]  classifier__max_depth=None, classifier__min_samples_leaf=5, classifier__n_estimators=125, f1_score=0.962, precision_score=0.942, recall_score=0.982, total= 4.1min\n",
      "[CV] classifier__max_depth=None, classifier__min_samples_leaf=10, classifier__n_estimators=50 \n",
      "[CV]  classifier__max_depth=None, classifier__min_samples_leaf=10, classifier__n_estimators=50, f1_score=0.418, precision_score=0.988, recall_score=0.265, total= 1.5min\n",
      "[CV] classifier__max_depth=None, classifier__min_samples_leaf=10, classifier__n_estimators=50 \n",
      "[CV]  classifier__max_depth=None, classifier__min_samples_leaf=10, classifier__n_estimators=50, f1_score=0.953, precision_score=0.935, recall_score=0.971, total=67.4min\n",
      "[CV] classifier__max_depth=None, classifier__min_samples_leaf=10, classifier__n_estimators=50 \n",
      "[CV]  classifier__max_depth=None, classifier__min_samples_leaf=10, classifier__n_estimators=50, f1_score=0.953, precision_score=0.937, recall_score=0.971, total= 1.5min\n",
      "[CV] classifier__max_depth=None, classifier__min_samples_leaf=10, classifier__n_estimators=100 \n",
      "[CV]  classifier__max_depth=None, classifier__min_samples_leaf=10, classifier__n_estimators=100, f1_score=0.416, precision_score=0.989, recall_score=0.263, total= 2.9min\n",
      "[CV] classifier__max_depth=None, classifier__min_samples_leaf=10, classifier__n_estimators=100 \n",
      "[CV]  classifier__max_depth=None, classifier__min_samples_leaf=10, classifier__n_estimators=100, f1_score=0.955, precision_score=0.938, recall_score=0.973, total= 3.1min\n",
      "[CV] classifier__max_depth=None, classifier__min_samples_leaf=10, classifier__n_estimators=100 \n",
      "[CV]  classifier__max_depth=None, classifier__min_samples_leaf=10, classifier__n_estimators=100, f1_score=0.955, precision_score=0.938, recall_score=0.972, total= 3.1min\n",
      "[CV] classifier__max_depth=None, classifier__min_samples_leaf=10, classifier__n_estimators=125 \n",
      "[CV]  classifier__max_depth=None, classifier__min_samples_leaf=10, classifier__n_estimators=125, f1_score=0.416, precision_score=0.989, recall_score=0.264, total= 3.6min\n",
      "[CV] classifier__max_depth=None, classifier__min_samples_leaf=10, classifier__n_estimators=125 \n",
      "[CV]  classifier__max_depth=None, classifier__min_samples_leaf=10, classifier__n_estimators=125, f1_score=0.955, precision_score=0.937, recall_score=0.973, total= 3.9min\n",
      "[CV] classifier__max_depth=None, classifier__min_samples_leaf=10, classifier__n_estimators=125 \n",
      "[CV]  classifier__max_depth=None, classifier__min_samples_leaf=10, classifier__n_estimators=125, f1_score=0.955, precision_score=0.939, recall_score=0.973, total= 3.9min\n",
      "[CV] classifier__max_depth=None, classifier__min_samples_leaf=15, classifier__n_estimators=50 \n",
      "[CV]  classifier__max_depth=None, classifier__min_samples_leaf=15, classifier__n_estimators=50, f1_score=0.417, precision_score=0.985, recall_score=0.265, total= 1.4min\n",
      "[CV] classifier__max_depth=None, classifier__min_samples_leaf=15, classifier__n_estimators=50 \n",
      "[CV]  classifier__max_depth=None, classifier__min_samples_leaf=15, classifier__n_estimators=50, f1_score=0.949, precision_score=0.932, recall_score=0.966, total= 1.5min\n",
      "[CV] classifier__max_depth=None, classifier__min_samples_leaf=15, classifier__n_estimators=50 \n",
      "[CV]  classifier__max_depth=None, classifier__min_samples_leaf=15, classifier__n_estimators=50, f1_score=0.948, precision_score=0.932, recall_score=0.965, total= 1.5min\n",
      "[CV] classifier__max_depth=None, classifier__min_samples_leaf=15, classifier__n_estimators=100 \n",
      "[CV]  classifier__max_depth=None, classifier__min_samples_leaf=15, classifier__n_estimators=100, f1_score=0.416, precision_score=0.987, recall_score=0.263, total= 2.9min\n",
      "[CV] classifier__max_depth=None, classifier__min_samples_leaf=15, classifier__n_estimators=100 \n",
      "[CV]  classifier__max_depth=None, classifier__min_samples_leaf=15, classifier__n_estimators=100, f1_score=0.949, precision_score=0.933, recall_score=0.966, total= 3.0min\n",
      "[CV] classifier__max_depth=None, classifier__min_samples_leaf=15, classifier__n_estimators=100 \n",
      "[CV]  classifier__max_depth=None, classifier__min_samples_leaf=15, classifier__n_estimators=100, f1_score=0.950, precision_score=0.934, recall_score=0.966, total= 3.0min\n",
      "[CV] classifier__max_depth=None, classifier__min_samples_leaf=15, classifier__n_estimators=125 \n",
      "[CV]  classifier__max_depth=None, classifier__min_samples_leaf=15, classifier__n_estimators=125, f1_score=0.416, precision_score=0.986, recall_score=0.264, total= 3.6min\n",
      "[CV] classifier__max_depth=None, classifier__min_samples_leaf=15, classifier__n_estimators=125 \n",
      "[CV]  classifier__max_depth=None, classifier__min_samples_leaf=15, classifier__n_estimators=125, f1_score=0.950, precision_score=0.933, recall_score=0.967, total= 3.7min\n",
      "[CV] classifier__max_depth=None, classifier__min_samples_leaf=15, classifier__n_estimators=125 \n",
      "[CV]  classifier__max_depth=None, classifier__min_samples_leaf=15, classifier__n_estimators=125, f1_score=0.950, precision_score=0.934, recall_score=0.967, total= 3.8min\n",
      "[CV] classifier__max_depth=10, classifier__min_samples_leaf=5, classifier__n_estimators=50 \n",
      "[CV]  classifier__max_depth=10, classifier__min_samples_leaf=5, classifier__n_estimators=50, f1_score=0.541, precision_score=0.802, recall_score=0.409, total=  37.1s\n",
      "[CV] classifier__max_depth=10, classifier__min_samples_leaf=5, classifier__n_estimators=50 \n",
      "[CV]  classifier__max_depth=10, classifier__min_samples_leaf=5, classifier__n_estimators=50, f1_score=0.870, precision_score=0.818, recall_score=0.931, total=  36.1s\n",
      "[CV] classifier__max_depth=10, classifier__min_samples_leaf=5, classifier__n_estimators=50 \n",
      "[CV]  classifier__max_depth=10, classifier__min_samples_leaf=5, classifier__n_estimators=50, f1_score=0.873, precision_score=0.822, recall_score=0.929, total=  35.9s\n",
      "[CV] classifier__max_depth=10, classifier__min_samples_leaf=5, classifier__n_estimators=100 \n",
      "[CV]  classifier__max_depth=10, classifier__min_samples_leaf=5, classifier__n_estimators=100, f1_score=0.533, precision_score=0.815, recall_score=0.396, total= 1.2min\n",
      "[CV] classifier__max_depth=10, classifier__min_samples_leaf=5, classifier__n_estimators=100 \n",
      "[CV]  classifier__max_depth=10, classifier__min_samples_leaf=5, classifier__n_estimators=100, f1_score=0.871, precision_score=0.817, recall_score=0.933, total= 1.2min\n",
      "[CV] classifier__max_depth=10, classifier__min_samples_leaf=5, classifier__n_estimators=100 \n",
      "[CV]  classifier__max_depth=10, classifier__min_samples_leaf=5, classifier__n_estimators=100, f1_score=0.874, precision_score=0.822, recall_score=0.934, total= 1.2min\n",
      "[CV] classifier__max_depth=10, classifier__min_samples_leaf=5, classifier__n_estimators=125 \n",
      "[CV]  classifier__max_depth=10, classifier__min_samples_leaf=5, classifier__n_estimators=125, f1_score=0.535, precision_score=0.811, recall_score=0.400, total= 1.6min\n",
      "[CV] classifier__max_depth=10, classifier__min_samples_leaf=5, classifier__n_estimators=125 \n"
     ]
    },
    {
     "name": "stdout",
     "output_type": "stream",
     "text": [
      "[CV]  classifier__max_depth=10, classifier__min_samples_leaf=5, classifier__n_estimators=125, f1_score=0.871, precision_score=0.821, recall_score=0.929, total= 1.4min\n",
      "[CV] classifier__max_depth=10, classifier__min_samples_leaf=5, classifier__n_estimators=125 \n",
      "[CV]  classifier__max_depth=10, classifier__min_samples_leaf=5, classifier__n_estimators=125, f1_score=0.873, precision_score=0.823, recall_score=0.930, total= 1.4min\n",
      "[CV] classifier__max_depth=10, classifier__min_samples_leaf=10, classifier__n_estimators=50 \n",
      "[CV]  classifier__max_depth=10, classifier__min_samples_leaf=10, classifier__n_estimators=50, f1_score=0.545, precision_score=0.792, recall_score=0.416, total=  36.8s\n",
      "[CV] classifier__max_depth=10, classifier__min_samples_leaf=10, classifier__n_estimators=50 \n",
      "[CV]  classifier__max_depth=10, classifier__min_samples_leaf=10, classifier__n_estimators=50, f1_score=0.866, precision_score=0.810, recall_score=0.930, total=  36.5s\n",
      "[CV] classifier__max_depth=10, classifier__min_samples_leaf=10, classifier__n_estimators=50 \n",
      "[CV]  classifier__max_depth=10, classifier__min_samples_leaf=10, classifier__n_estimators=50, f1_score=0.865, precision_score=0.809, recall_score=0.930, total=  36.6s\n",
      "[CV] classifier__max_depth=10, classifier__min_samples_leaf=10, classifier__n_estimators=100 \n",
      "[CV]  classifier__max_depth=10, classifier__min_samples_leaf=10, classifier__n_estimators=100, f1_score=0.538, precision_score=0.807, recall_score=0.404, total=993.7min\n",
      "[CV] classifier__max_depth=10, classifier__min_samples_leaf=10, classifier__n_estimators=100 \n",
      "[CV]  classifier__max_depth=10, classifier__min_samples_leaf=10, classifier__n_estimators=100, f1_score=0.870, precision_score=0.816, recall_score=0.932, total=  49.1s\n",
      "[CV] classifier__max_depth=10, classifier__min_samples_leaf=10, classifier__n_estimators=100 \n",
      "[CV]  classifier__max_depth=10, classifier__min_samples_leaf=10, classifier__n_estimators=100, f1_score=0.869, precision_score=0.814, recall_score=0.932, total=  53.3s\n",
      "[CV] classifier__max_depth=10, classifier__min_samples_leaf=10, classifier__n_estimators=125 \n",
      "[CV]  classifier__max_depth=10, classifier__min_samples_leaf=10, classifier__n_estimators=125, f1_score=0.537, precision_score=0.807, recall_score=0.403, total= 1.4min\n",
      "[CV] classifier__max_depth=10, classifier__min_samples_leaf=10, classifier__n_estimators=125 \n",
      "[CV]  classifier__max_depth=10, classifier__min_samples_leaf=10, classifier__n_estimators=125, f1_score=0.871, precision_score=0.819, recall_score=0.928, total= 1.4min\n",
      "[CV] classifier__max_depth=10, classifier__min_samples_leaf=10, classifier__n_estimators=125 \n",
      "[CV]  classifier__max_depth=10, classifier__min_samples_leaf=10, classifier__n_estimators=125, f1_score=0.870, precision_score=0.818, recall_score=0.929, total= 1.5min\n",
      "[CV] classifier__max_depth=10, classifier__min_samples_leaf=15, classifier__n_estimators=50 \n",
      "[CV]  classifier__max_depth=10, classifier__min_samples_leaf=15, classifier__n_estimators=50, f1_score=0.537, precision_score=0.800, recall_score=0.404, total=  34.9s\n",
      "[CV] classifier__max_depth=10, classifier__min_samples_leaf=15, classifier__n_estimators=50 \n",
      "[CV]  classifier__max_depth=10, classifier__min_samples_leaf=15, classifier__n_estimators=50, f1_score=0.869, precision_score=0.820, recall_score=0.924, total=  36.1s\n",
      "[CV] classifier__max_depth=10, classifier__min_samples_leaf=15, classifier__n_estimators=50 \n",
      "[CV]  classifier__max_depth=10, classifier__min_samples_leaf=15, classifier__n_estimators=50, f1_score=0.875, precision_score=0.829, recall_score=0.926, total=  36.2s\n",
      "[CV] classifier__max_depth=10, classifier__min_samples_leaf=15, classifier__n_estimators=100 \n",
      "[CV]  classifier__max_depth=10, classifier__min_samples_leaf=15, classifier__n_estimators=100, f1_score=0.535, precision_score=0.809, recall_score=0.400, total= 1.2min\n",
      "[CV] classifier__max_depth=10, classifier__min_samples_leaf=15, classifier__n_estimators=100 \n",
      "[CV]  classifier__max_depth=10, classifier__min_samples_leaf=15, classifier__n_estimators=100, f1_score=0.870, precision_score=0.817, recall_score=0.930, total= 1.2min\n",
      "[CV] classifier__max_depth=10, classifier__min_samples_leaf=15, classifier__n_estimators=100 \n",
      "[CV]  classifier__max_depth=10, classifier__min_samples_leaf=15, classifier__n_estimators=100, f1_score=0.876, precision_score=0.828, recall_score=0.929, total= 1.2min\n",
      "[CV] classifier__max_depth=10, classifier__min_samples_leaf=15, classifier__n_estimators=125 \n",
      "[CV]  classifier__max_depth=10, classifier__min_samples_leaf=15, classifier__n_estimators=125, f1_score=0.533, precision_score=0.811, recall_score=0.397, total= 1.5min\n",
      "[CV] classifier__max_depth=10, classifier__min_samples_leaf=15, classifier__n_estimators=125 \n",
      "[CV]  classifier__max_depth=10, classifier__min_samples_leaf=15, classifier__n_estimators=125, f1_score=0.871, precision_score=0.821, recall_score=0.928, total= 1.5min\n",
      "[CV] classifier__max_depth=10, classifier__min_samples_leaf=15, classifier__n_estimators=125 \n",
      "[CV]  classifier__max_depth=10, classifier__min_samples_leaf=15, classifier__n_estimators=125, f1_score=0.875, precision_score=0.829, recall_score=0.926, total= 1.5min\n",
      "[CV] classifier__max_depth=20, classifier__min_samples_leaf=5, classifier__n_estimators=50 \n",
      "[CV]  classifier__max_depth=20, classifier__min_samples_leaf=5, classifier__n_estimators=50, f1_score=0.471, precision_score=0.923, recall_score=0.316, total= 1.1min\n",
      "[CV] classifier__max_depth=20, classifier__min_samples_leaf=5, classifier__n_estimators=50 \n",
      "[CV]  classifier__max_depth=20, classifier__min_samples_leaf=5, classifier__n_estimators=50, f1_score=0.929, precision_score=0.905, recall_score=0.954, total= 1.1min\n",
      "[CV] classifier__max_depth=20, classifier__min_samples_leaf=5, classifier__n_estimators=50 \n",
      "[CV]  classifier__max_depth=20, classifier__min_samples_leaf=5, classifier__n_estimators=50, f1_score=0.926, precision_score=0.901, recall_score=0.954, total= 1.1min\n",
      "[CV] classifier__max_depth=20, classifier__min_samples_leaf=5, classifier__n_estimators=100 \n",
      "[CV]  classifier__max_depth=20, classifier__min_samples_leaf=5, classifier__n_estimators=100, f1_score=0.464, precision_score=0.938, recall_score=0.309, total= 2.1min\n",
      "[CV] classifier__max_depth=20, classifier__min_samples_leaf=5, classifier__n_estimators=100 \n",
      "[CV]  classifier__max_depth=20, classifier__min_samples_leaf=5, classifier__n_estimators=100, f1_score=0.932, precision_score=0.909, recall_score=0.956, total= 2.1min\n",
      "[CV] classifier__max_depth=20, classifier__min_samples_leaf=5, classifier__n_estimators=100 \n",
      "[CV]  classifier__max_depth=20, classifier__min_samples_leaf=5, classifier__n_estimators=100, f1_score=0.931, precision_score=0.908, recall_score=0.957, total= 2.2min\n",
      "[CV] classifier__max_depth=20, classifier__min_samples_leaf=5, classifier__n_estimators=125 \n",
      "[CV]  classifier__max_depth=20, classifier__min_samples_leaf=5, classifier__n_estimators=125, f1_score=0.465, precision_score=0.938, recall_score=0.309, total= 2.7min\n",
      "[CV] classifier__max_depth=20, classifier__min_samples_leaf=5, classifier__n_estimators=125 \n",
      "[CV]  classifier__max_depth=20, classifier__min_samples_leaf=5, classifier__n_estimators=125, f1_score=0.932, precision_score=0.909, recall_score=0.956, total= 2.7min\n",
      "[CV] classifier__max_depth=20, classifier__min_samples_leaf=5, classifier__n_estimators=125 \n",
      "[CV]  classifier__max_depth=20, classifier__min_samples_leaf=5, classifier__n_estimators=125, f1_score=0.932, precision_score=0.908, recall_score=0.958, total= 2.7min\n",
      "[CV] classifier__max_depth=20, classifier__min_samples_leaf=10, classifier__n_estimators=50 \n",
      "[CV]  classifier__max_depth=20, classifier__min_samples_leaf=10, classifier__n_estimators=50, f1_score=0.469, precision_score=0.921, recall_score=0.314, total= 1.1min\n",
      "[CV] classifier__max_depth=20, classifier__min_samples_leaf=10, classifier__n_estimators=50 \n",
      "[CV]  classifier__max_depth=20, classifier__min_samples_leaf=10, classifier__n_estimators=50, f1_score=0.925, precision_score=0.902, recall_score=0.949, total= 1.1min\n",
      "[CV] classifier__max_depth=20, classifier__min_samples_leaf=10, classifier__n_estimators=50 \n",
      "[CV]  classifier__max_depth=20, classifier__min_samples_leaf=10, classifier__n_estimators=50, f1_score=0.925, precision_score=0.901, recall_score=0.950, total= 1.1min\n",
      "[CV] classifier__max_depth=20, classifier__min_samples_leaf=10, classifier__n_estimators=100 \n"
     ]
    },
    {
     "name": "stdout",
     "output_type": "stream",
     "text": [
      "[CV]  classifier__max_depth=20, classifier__min_samples_leaf=10, classifier__n_estimators=100, f1_score=0.460, precision_score=0.936, recall_score=0.305, total= 2.1min\n",
      "[CV] classifier__max_depth=20, classifier__min_samples_leaf=10, classifier__n_estimators=100 \n",
      "[CV]  classifier__max_depth=20, classifier__min_samples_leaf=10, classifier__n_estimators=100, f1_score=0.927, precision_score=0.904, recall_score=0.952, total= 2.1min\n",
      "[CV] classifier__max_depth=20, classifier__min_samples_leaf=10, classifier__n_estimators=100 \n",
      "[CV]  classifier__max_depth=20, classifier__min_samples_leaf=10, classifier__n_estimators=100, f1_score=0.927, precision_score=0.903, recall_score=0.953, total= 2.1min\n",
      "[CV] classifier__max_depth=20, classifier__min_samples_leaf=10, classifier__n_estimators=125 \n",
      "[CV]  classifier__max_depth=20, classifier__min_samples_leaf=10, classifier__n_estimators=125, f1_score=0.462, precision_score=0.935, recall_score=0.307, total= 2.6min\n",
      "[CV] classifier__max_depth=20, classifier__min_samples_leaf=10, classifier__n_estimators=125 \n",
      "[CV]  classifier__max_depth=20, classifier__min_samples_leaf=10, classifier__n_estimators=125, f1_score=0.927, precision_score=0.903, recall_score=0.952, total= 2.7min\n",
      "[CV] classifier__max_depth=20, classifier__min_samples_leaf=10, classifier__n_estimators=125 \n",
      "[CV]  classifier__max_depth=20, classifier__min_samples_leaf=10, classifier__n_estimators=125, f1_score=0.928, precision_score=0.904, recall_score=0.954, total= 2.7min\n",
      "[CV] classifier__max_depth=20, classifier__min_samples_leaf=15, classifier__n_estimators=50 \n",
      "[CV]  classifier__max_depth=20, classifier__min_samples_leaf=15, classifier__n_estimators=50, f1_score=0.472, precision_score=0.916, recall_score=0.318, total= 1.1min\n",
      "[CV] classifier__max_depth=20, classifier__min_samples_leaf=15, classifier__n_estimators=50 \n",
      "[CV]  classifier__max_depth=20, classifier__min_samples_leaf=15, classifier__n_estimators=50, f1_score=0.922, precision_score=0.898, recall_score=0.948, total= 1.1min\n",
      "[CV] classifier__max_depth=20, classifier__min_samples_leaf=15, classifier__n_estimators=50 \n",
      "[CV]  classifier__max_depth=20, classifier__min_samples_leaf=15, classifier__n_estimators=50, f1_score=0.922, precision_score=0.898, recall_score=0.947, total= 1.1min\n",
      "[CV] classifier__max_depth=20, classifier__min_samples_leaf=15, classifier__n_estimators=100 \n",
      "[CV]  classifier__max_depth=20, classifier__min_samples_leaf=15, classifier__n_estimators=100, f1_score=0.464, precision_score=0.931, recall_score=0.309, total= 2.1min\n",
      "[CV] classifier__max_depth=20, classifier__min_samples_leaf=15, classifier__n_estimators=100 \n",
      "[CV]  classifier__max_depth=20, classifier__min_samples_leaf=15, classifier__n_estimators=100, f1_score=0.925, precision_score=0.900, recall_score=0.951, total= 2.1min\n",
      "[CV] classifier__max_depth=20, classifier__min_samples_leaf=15, classifier__n_estimators=100 \n",
      "[CV]  classifier__max_depth=20, classifier__min_samples_leaf=15, classifier__n_estimators=100, f1_score=0.925, precision_score=0.901, recall_score=0.950, total= 2.1min\n",
      "[CV] classifier__max_depth=20, classifier__min_samples_leaf=15, classifier__n_estimators=125 \n",
      "[CV]  classifier__max_depth=20, classifier__min_samples_leaf=15, classifier__n_estimators=125, f1_score=0.464, precision_score=0.931, recall_score=0.309, total= 2.6min\n",
      "[CV] classifier__max_depth=20, classifier__min_samples_leaf=15, classifier__n_estimators=125 \n",
      "[CV]  classifier__max_depth=20, classifier__min_samples_leaf=15, classifier__n_estimators=125, f1_score=0.924, precision_score=0.900, recall_score=0.950, total= 2.6min\n",
      "[CV] classifier__max_depth=20, classifier__min_samples_leaf=15, classifier__n_estimators=125 \n",
      "[CV]  classifier__max_depth=20, classifier__min_samples_leaf=15, classifier__n_estimators=125, f1_score=0.925, precision_score=0.901, recall_score=0.951, total= 2.6min\n"
     ]
    },
    {
     "name": "stderr",
     "output_type": "stream",
     "text": [
      "[Parallel(n_jobs=1)]: Done  81 out of  81 | elapsed: 1215.6min finished\n"
     ]
    },
    {
     "data": {
      "text/plain": [
       "GridSearchCV(cv=3,\n",
       "             estimator=Pipeline(steps=[('scaler', MinMaxScaler()),\n",
       "                                       ('classifier',\n",
       "                                        RandomForestClassifier(random_state=24))]),\n",
       "             param_grid={'classifier__max_depth': [None, 10, 20],\n",
       "                         'classifier__min_samples_leaf': [5, 10, 15],\n",
       "                         'classifier__n_estimators': [50, 100, 125]},\n",
       "             refit='precision_score',\n",
       "             scoring={'f1_score': make_scorer(f1_score),\n",
       "                      'precision_score': make_scorer(precision_score),\n",
       "                      'recall_score': make_scorer(recall_score)},\n",
       "             verbose=3)"
      ]
     },
     "execution_count": 34,
     "metadata": {},
     "output_type": "execute_result"
    }
   ],
   "source": [
    "# Fit the GridSearchCV object\n",
    "rf_gridsearch.fit(X_train_res, y_train_res)"
   ]
  },
  {
   "cell_type": "markdown",
   "metadata": {},
   "source": [
    "Now that the grid search has fully run, I can use the `best_params_` and `best_score_` attributes to find just that - the best parameters found through my grid search and the best cross-validated score of the best estimator, respectively. I see that my grid search determined 100 estimators and a minimum number of 5 samples per leaf in the Random Forest classifier were best, and refit the model based on these hyperparameters. The best score (0.931) is pretty high, and could be overfitting. I plot the confusion matrix to get a better look into how well this model does."
   ]
  },
  {
   "cell_type": "code",
   "execution_count": 35,
   "metadata": {},
   "outputs": [
    {
     "name": "stdout",
     "output_type": "stream",
     "text": [
      "Best params for Random Forest Classifier refit for precision_score:\n",
      "{'classifier__max_depth': None, 'classifier__min_samples_leaf': 5, 'classifier__n_estimators': 100}\n",
      "\n",
      "\n",
      "Best score for Random Forest Classifier refit for precision_score:\n",
      "0.9583924767042996\n"
     ]
    }
   ],
   "source": [
    "# Print the 'best' parameters and the best score for the model\n",
    "print('Best params for Random Forest Classifier refit for {}:'.format('precision_score'))\n",
    "print(rf_gridsearch.best_params_)\n",
    "print('\\n')\n",
    "print('Best score for Random Forest Classifier refit for {}:'.format('precision_score'))\n",
    "print(rf_gridsearch.best_score_)"
   ]
  },
  {
   "cell_type": "code",
   "execution_count": 36,
   "metadata": {
    "scrolled": false
   },
   "outputs": [
    {
     "data": {
      "image/png": "[encoded data removed]",
      "text/plain": [
       "<Figure size 720x576 with 1 Axes>"
      ]
     },
     "metadata": {},
     "output_type": "display_data"
    }
   ],
   "source": [
    "# Plot the confusion matrix\n",
    "y_hat_val = rf_gridsearch.predict(X_val)\n",
    "plt.figure(figsize=(10, 8))\n",
    "sns.heatmap(confusion_matrix(y_val, y_hat_val), annot=True,\n",
    "           fmt='.1f', xticklabels=['Not Delayed', 'Delayed'],\n",
    "           yticklabels=['Not Delayed', 'Delayed'], cmap='OrRd', cbar=False)\n",
    "plt.xlabel(\"Predicted Labels\")\n",
    "plt.ylabel(\"True Labels\")\n",
    "plt.title('Confusion Matrix of the Optimized Random Forest On the Validation Data')\n",
    "plt.show();"
   ]
  },
  {
   "cell_type": "markdown",
   "metadata": {},
   "source": [
    "From initial observation, I can see this model needs more training, especially if my hope is to reduce the false positive count while also predicting delays. The false positive count is 1,505, which is a decent start; however, there are 12,333 predictions misclassified as not delayed, which is a problem. I print the classification report below to get a full look into the grid search's metric scores, including recall and f1."
   ]
  },
  {
   "cell_type": "code",
   "execution_count": 37,
   "metadata": {},
   "outputs": [
    {
     "name": "stdout",
     "output_type": "stream",
     "text": [
      "              precision    recall  f1-score   support\n",
      "\n",
      "           0       0.82      0.97      0.89     58461\n",
      "           1       0.58      0.14      0.23     14407\n",
      "\n",
      "    accuracy                           0.81     72868\n",
      "   macro avg       0.70      0.56      0.56     72868\n",
      "weighted avg       0.77      0.81      0.76     72868\n",
      "\n"
     ]
    }
   ],
   "source": [
    "# Print the classification report\n",
    "print(classification_report(y_val, y_hat_val))"
   ]
  },
  {
   "cell_type": "markdown",
   "metadata": {},
   "source": [
    "The scores above (58.0%, 14.0%, 23.0%, respectively) is pretty low and invite more work. Due to constraints, I will accept these scores as the machine learning standard for comparison against another technique: deep learning. "
   ]
  },
  {
   "cell_type": "markdown",
   "metadata": {},
   "source": [
    "### Deep Learning:\n",
    "\n",
    "Before I begin creating neural networks to train my data on, it's important I normalize the input datasets so that they are all on the same scale; otherwise, the models will generate flawed results. I will use `MinMaxScaler` once again, and transform all three input datasets, but only fitting on the training data."
   ]
  },
  {
   "cell_type": "code",
   "execution_count": 38,
   "metadata": {},
   "outputs": [
    {
     "data": {
      "text/plain": [
       "(701026, 138)"
      ]
     },
     "execution_count": 38,
     "metadata": {},
     "output_type": "execute_result"
    }
   ],
   "source": [
    "# Use the MinMaxScaler function to scale the data\n",
    "cols = X_train_res.columns\n",
    "\n",
    "mmscaler = MinMaxScaler()\n",
    "X_train_scaled = mmscaler.fit_transform(X_train_res)\n",
    "X_val_scaled = mmscaler.transform(X_val)\n",
    "X_test_scaled = mmscaler.transform(X_test)\n",
    "\n",
    "X_train = pd.DataFrame(X_train_scaled, columns=cols)\n",
    "X_val = pd.DataFrame(X_val_scaled, columns=cols)\n",
    "X_test = pd.DataFrame(X_test_scaled, columns=cols)\n",
    "\n",
    "# Check & reconfirm the training data's shape\n",
    "X_train.shape"
   ]
  },
  {
   "cell_type": "markdown",
   "metadata": {},
   "source": [
    "I see from the last line of code that the shape of the training data has remained intact, and that my data is ready to be modeled. To begin, I build a small baseline neural network - specifically, with 2 hidden layers and 1 output layer). I also set some regularization to help counter any potential overfitting to start. \n",
    "\n",
    "Seeing as how this is a classification problem, it's important I select loss and optimizer functions that work well in binary classification. From my knowledge, binary cross-entropy and Adam optimization work best in these situations, so I pass them along with a metrics parameter in the compiler function. The summary below shows the number of parameters that exist (and will be trained) in the network, which in this case is a little under 10,000 parameters!"
   ]
  },
  {
   "cell_type": "code",
   "execution_count": 1,
   "metadata": {},
   "outputs": [
    {
     "ename": "NameError",
     "evalue": "name 'Sequential' is not defined",
     "output_type": "error",
     "traceback": [
      "\u001b[1;31m---------------------------------------------------------------------------\u001b[0m",
      "\u001b[1;31mNameError\u001b[0m                                 Traceback (most recent call last)",
      "\u001b[1;32m<ipython-input-1-1c1162108d90>\u001b[0m in \u001b[0;36m<module>\u001b[1;34m\u001b[0m\n\u001b[0;32m      1\u001b[0m \u001b[1;31m# Create a small-layered baseline neural network\u001b[0m\u001b[1;33m\u001b[0m\u001b[1;33m\u001b[0m\u001b[1;33m\u001b[0m\u001b[0m\n\u001b[1;32m----> 2\u001b[1;33m \u001b[0mneural_network\u001b[0m \u001b[1;33m=\u001b[0m \u001b[0mSequential\u001b[0m\u001b[1;33m(\u001b[0m\u001b[1;33m)\u001b[0m\u001b[1;33m\u001b[0m\u001b[1;33m\u001b[0m\u001b[0m\n\u001b[0m\u001b[0;32m      3\u001b[0m neural_network.add(Dense(64, activation='relu', \n\u001b[0;32m      4\u001b[0m                             kernel_regularizer=regularizers.l2(0.01), input_shape=(138, )))\n\u001b[0;32m      5\u001b[0m \u001b[0mneural_network\u001b[0m\u001b[1;33m.\u001b[0m\u001b[0madd\u001b[0m\u001b[1;33m(\u001b[0m\u001b[0mDense\u001b[0m\u001b[1;33m(\u001b[0m\u001b[1;36m16\u001b[0m\u001b[1;33m,\u001b[0m \u001b[0mactivation\u001b[0m\u001b[1;33m=\u001b[0m\u001b[1;34m'relu'\u001b[0m\u001b[1;33m)\u001b[0m\u001b[1;33m)\u001b[0m\u001b[1;33m\u001b[0m\u001b[1;33m\u001b[0m\u001b[0m\n",
      "\u001b[1;31mNameError\u001b[0m: name 'Sequential' is not defined"
     ]
    }
   ],
   "source": [
    "# Create a small-layered baseline neural network\n",
    "neural_network = Sequential()\n",
    "neural_network.add(Dense(64, activation='relu', \n",
    "                            kernel_regularizer=regularizers.l2(0.01), input_shape=(138, )))\n",
    "neural_network.add(Dense(16, activation='relu'))\n",
    "neural_network.add(Dense(1, activation='sigmoid'))\n",
    "\n",
    "# Compile the baseline network\n",
    "neural_network.compile(loss='binary_crossentropy', optimizer='adam', metrics=['accuracy'])\n",
    "\n",
    "# List a summary of the baseline network\n",
    "neural_network.summary()"
   ]
  },
  {
   "cell_type": "markdown",
   "metadata": {},
   "source": [
    "I fit the baseline network to the training data, and run it for 32 epochs alongside the validation data."
   ]
  },
  {
   "cell_type": "code",
   "execution_count": 40,
   "metadata": {
    "scrolled": true
   },
   "outputs": [
    {
     "name": "stdout",
     "output_type": "stream",
     "text": [
      "Epoch 1/32\n",
      "2739/2739 [==============================] - 8s 3ms/step - loss: 0.6046 - accuracy: 0.7025 - val_loss: 0.5941 - val_accuracy: 0.7216\n",
      "Epoch 2/32\n",
      "2739/2739 [==============================] - 8s 3ms/step - loss: 0.5060 - accuracy: 0.7684 - val_loss: 0.5717 - val_accuracy: 0.7414\n",
      "Epoch 3/32\n",
      "2739/2739 [==============================] - 10s 3ms/step - loss: 0.4885 - accuracy: 0.7790 - val_loss: 0.5472 - val_accuracy: 0.7631\n",
      "Epoch 4/32\n",
      "2739/2739 [==============================] - 8s 3ms/step - loss: 0.4806 - accuracy: 0.7838 - val_loss: 0.5586 - val_accuracy: 0.7469\n",
      "Epoch 5/32\n",
      "2739/2739 [==============================] - 10s 3ms/step - loss: 0.4760 - accuracy: 0.7868 - val_loss: 0.5401 - val_accuracy: 0.7698\n",
      "Epoch 6/32\n",
      "2739/2739 [==============================] - 9s 3ms/step - loss: 0.4727 - accuracy: 0.7886 - val_loss: 0.5612 - val_accuracy: 0.7521\n",
      "Epoch 7/32\n",
      "2739/2739 [==============================] - 9s 3ms/step - loss: 0.4706 - accuracy: 0.7903 - val_loss: 0.5329 - val_accuracy: 0.7808\n",
      "Epoch 8/32\n",
      "2739/2739 [==============================] - 9s 3ms/step - loss: 0.4668 - accuracy: 0.7921 - val_loss: 0.5398 - val_accuracy: 0.7724\n",
      "Epoch 9/32\n",
      "2739/2739 [==============================] - 10s 3ms/step - loss: 0.4639 - accuracy: 0.7939 - val_loss: 0.5518 - val_accuracy: 0.7553\n",
      "Epoch 10/32\n",
      "2739/2739 [==============================] - 9s 3ms/step - loss: 0.4617 - accuracy: 0.7944 - val_loss: 0.5238 - val_accuracy: 0.7916\n",
      "Epoch 11/32\n",
      "2739/2739 [==============================] - 9s 3ms/step - loss: 0.4591 - accuracy: 0.7952 - val_loss: 0.5438 - val_accuracy: 0.7704\n",
      "Epoch 12/32\n",
      "2739/2739 [==============================] - 9s 3ms/step - loss: 0.4556 - accuracy: 0.7965 - val_loss: 0.5444 - val_accuracy: 0.7673\n",
      "Epoch 13/32\n",
      "2739/2739 [==============================] - 9s 3ms/step - loss: 0.4546 - accuracy: 0.7967 - val_loss: 0.5616 - val_accuracy: 0.7547\n",
      "Epoch 14/32\n",
      "2739/2739 [==============================] - 9s 3ms/step - loss: 0.4533 - accuracy: 0.7977 - val_loss: 0.5319 - val_accuracy: 0.7843\n",
      "Epoch 15/32\n",
      "2739/2739 [==============================] - 9s 3ms/step - loss: 0.4521 - accuracy: 0.7981 - val_loss: 0.5365 - val_accuracy: 0.7757\n",
      "Epoch 16/32\n",
      "2739/2739 [==============================] - 9s 3ms/step - loss: 0.4517 - accuracy: 0.7974 - val_loss: 0.5237 - val_accuracy: 0.7906\n",
      "Epoch 17/32\n",
      "2739/2739 [==============================] - 9s 3ms/step - loss: 0.4511 - accuracy: 0.7981 - val_loss: 0.5597 - val_accuracy: 0.7606\n",
      "Epoch 18/32\n",
      "2739/2739 [==============================] - 9s 3ms/step - loss: 0.4494 - accuracy: 0.7988 - val_loss: 0.5691 - val_accuracy: 0.7523\n",
      "Epoch 19/32\n",
      "2739/2739 [==============================] - 9s 3ms/step - loss: 0.4491 - accuracy: 0.7991 - val_loss: 0.5416 - val_accuracy: 0.7734\n",
      "Epoch 20/32\n",
      "2739/2739 [==============================] - 9s 3ms/step - loss: 0.4480 - accuracy: 0.7992 - val_loss: 0.5281 - val_accuracy: 0.7858\n",
      "Epoch 21/32\n",
      "2739/2739 [==============================] - 9s 3ms/step - loss: 0.4478 - accuracy: 0.7992 - val_loss: 0.5335 - val_accuracy: 0.7810\n",
      "Epoch 22/32\n",
      "2739/2739 [==============================] - 9s 3ms/step - loss: 0.4475 - accuracy: 0.7994 - val_loss: 0.5235 - val_accuracy: 0.7883\n",
      "Epoch 23/32\n",
      "2739/2739 [==============================] - 9s 3ms/step - loss: 0.4475 - accuracy: 0.7989 - val_loss: 0.5213 - val_accuracy: 0.7924\n",
      "Epoch 24/32\n",
      "2739/2739 [==============================] - 8s 3ms/step - loss: 0.4470 - accuracy: 0.7994 - val_loss: 0.5282 - val_accuracy: 0.7841\n",
      "Epoch 25/32\n",
      "2739/2739 [==============================] - 9s 3ms/step - loss: 0.4466 - accuracy: 0.7995 - val_loss: 0.5758 - val_accuracy: 0.7573\n",
      "Epoch 26/32\n",
      "2739/2739 [==============================] - 9s 3ms/step - loss: 0.4465 - accuracy: 0.7996 - val_loss: 0.5475 - val_accuracy: 0.7704\n",
      "Epoch 27/32\n",
      "2739/2739 [==============================] - 9s 3ms/step - loss: 0.4464 - accuracy: 0.7996 - val_loss: 0.5494 - val_accuracy: 0.7715\n",
      "Epoch 28/32\n",
      "2739/2739 [==============================] - 9s 3ms/step - loss: 0.4458 - accuracy: 0.7998 - val_loss: 0.5252 - val_accuracy: 0.7882\n",
      "Epoch 29/32\n",
      "2739/2739 [==============================] - 9s 3ms/step - loss: 0.4452 - accuracy: 0.7997 - val_loss: 0.5395 - val_accuracy: 0.7747\n",
      "Epoch 30/32\n",
      "2739/2739 [==============================] - 9s 3ms/step - loss: 0.4449 - accuracy: 0.8004 - val_loss: 0.5352 - val_accuracy: 0.7788\n",
      "Epoch 31/32\n",
      "2739/2739 [==============================] - 8s 3ms/step - loss: 0.4448 - accuracy: 0.8009 - val_loss: 0.5442 - val_accuracy: 0.7714\n",
      "Epoch 32/32\n",
      "2739/2739 [==============================] - 9s 3ms/step - loss: 0.4447 - accuracy: 0.8008 - val_loss: 0.5528 - val_accuracy: 0.7676\n"
     ]
    }
   ],
   "source": [
    "# Fit the baseline network\n",
    "baseline = neural_network.fit(X_train, y_train_res, epochs=32, batch_size=256,\n",
    "                                      validation_data=(X_val, y_val))"
   ]
  },
  {
   "cell_type": "markdown",
   "metadata": {},
   "source": [
    "Once all the epochs have been run through, I evaluate the network on both the training and validation data to get a look into the baseline networks accuracy and loss. Then I generate predictions and map the values to plot a confusion matrix, and get a further look into how the model performed. "
   ]
  },
  {
   "cell_type": "code",
   "execution_count": 41,
   "metadata": {},
   "outputs": [
    {
     "name": "stdout",
     "output_type": "stream",
     "text": [
      "21908/21908 [==============================] - 23s 1ms/step - loss: 12.7168 - accuracy: 0.5042\n",
      "Training data results:\n",
      "[12.716779708862305, 0.5041667222976685]\n",
      "\n",
      "\n",
      "2278/2278 [==============================] - 2s 1ms/step - loss: 0.5528 - accuracy: 0.7676\n",
      "Validation data results:\n",
      "[0.5527992248535156, 0.7675934433937073]\n"
     ]
    },
    {
     "data": {
      "image/png": "[encoded data removed]",
      "text/plain": [
       "<Figure size 720x576 with 1 Axes>"
      ]
     },
     "metadata": {},
     "output_type": "display_data"
    }
   ],
   "source": [
    "# Evaluate the loss and accuracy scores for the training and validation datasets\n",
    "print(f'Training data results:\\n{neural_network.evaluate(X_train_res, y_train_res)}')\n",
    "print('\\n')\n",
    "print(f'Validation data results:\\n{neural_network.evaluate(X_val, y_val)}')\n",
    "\n",
    "# Generate predictions and \"round\" the values\n",
    "baseline_preds = neural_network.predict(X_val)\n",
    "baseline_preds[baseline_preds > 0.5] = 1\n",
    "baseline_preds[baseline_preds < 0.5] = 0\n",
    "\n",
    "# Plot a confusion matrix of the validation data\n",
    "plt.figure(figsize=(10, 8))\n",
    "sns.heatmap(confusion_matrix(y_val, baseline_preds), annot=True,\n",
    "           fmt='.1f', xticklabels=['Not Delayed', 'Delayed'],\n",
    "           yticklabels=['Not Delayed', 'Delayed'], cmap='OrRd', cbar=False)\n",
    "plt.xlabel(\"Predicted Labels\")\n",
    "plt.ylabel(\"True Labels\")\n",
    "plt.show()"
   ]
  },
  {
   "cell_type": "markdown",
   "metadata": {},
   "source": [
    "I see above that the validation accuracy is much higher than the training data's score (76.8% vs. 50.4%, respectively). This is only a baseline network yet this performance is pretty poor and will need to be tuned and retrained. The confusion matrix above displays the model's performance, and gives us a better idea of how much work I need to do. When compared to the tuned machine learning model, the one above predicts more true positives (around 600 cases more) - essentially, more delay cases. Simultaneously, it predicts approximately 3500 more false positives. If possible, I will try to greatly reduce that amount while also increasing the amount of true delays. \n",
    "\n",
    "Below is the classification report for the baseline network to see how the model performed based on the three metrics I've been tracking thus far (precision, recall and f1 score). However, for this analsysis and simplicity's sake, I also create a function further below that will take in the true and predicted labels, and generate the three scores."
   ]
  },
  {
   "cell_type": "code",
   "execution_count": 42,
   "metadata": {},
   "outputs": [
    {
     "name": "stdout",
     "output_type": "stream",
     "text": [
      "              precision    recall  f1-score   support\n",
      "\n",
      "           0       0.82      0.91      0.86     58461\n",
      "           1       0.34      0.19      0.24     14407\n",
      "\n",
      "    accuracy                           0.77     72868\n",
      "   macro avg       0.58      0.55      0.55     72868\n",
      "weighted avg       0.72      0.77      0.74     72868\n",
      "\n"
     ]
    }
   ],
   "source": [
    "# Print the classification report\n",
    "print(classification_report(y_val, baseline_preds))"
   ]
  },
  {
   "cell_type": "code",
   "execution_count": 43,
   "metadata": {},
   "outputs": [
    {
     "name": "stdout",
     "output_type": "stream",
     "text": [
      "Precision score: 33.97 %\n",
      "Recall score: 18.59 %\n",
      "F1 score: 24.03 %\n"
     ]
    }
   ],
   "source": [
    "# Create a function that will calculate the three relevant metric scores\n",
    "def model_metrics(y_true, y_preds):\n",
    "    \n",
    "    precision = precision_score(y_true, y_preds)\n",
    "    recall = recall_score(y_true, y_preds)\n",
    "    f1 = f1_score(y_true, y_preds)\n",
    "\n",
    "    print('Precision score:', round(precision * 100, 2),'%')\n",
    "    print('Recall score:', round(recall * 100, 2),'%')\n",
    "    print('F1 score:', round(f1 * 100, 2),'%')\n",
    "\n",
    "# Run the function with the appropriate arguments passed in\n",
    "model_metrics(y_val, baseline_preds)"
   ]
  },
  {
   "cell_type": "markdown",
   "metadata": {},
   "source": [
    "It seems all three scores dropped when compared to the machine learning algorithm. The precision score is the only one to decrease when compared to the Random Forest classifier (34.0% vs 58.0%). Conversely, the recall and f1 scores increased in this iteration. This means the model's sensitivity, or ability to predict positive results, has improved, which we saw in our plot above. My goal, once again, is to improve this area while maintaining low false positive numbers.\n",
    "\n",
    "I will create another neural network; however, it will have 3 hidden layers, instead of two (and the units will be adjusted, accordingly). I apply the same compiler parameters, and print the summary again to see how many more parameters I am training. This denser network will train 11,249 total parameters."
   ]
  },
  {
   "cell_type": "code",
   "execution_count": 44,
   "metadata": {},
   "outputs": [
    {
     "name": "stdout",
     "output_type": "stream",
     "text": [
      "Model: \"sequential_1\"\n",
      "_________________________________________________________________\n",
      "Layer (type)                 Output Shape              Param #   \n",
      "=================================================================\n",
      "dense_3 (Dense)              (None, 64)                8896      \n",
      "_________________________________________________________________\n",
      "dense_4 (Dense)              (None, 32)                2080      \n",
      "_________________________________________________________________\n",
      "dense_5 (Dense)              (None, 8)                 264       \n",
      "_________________________________________________________________\n",
      "dense_6 (Dense)              (None, 1)                 9         \n",
      "=================================================================\n",
      "Total params: 11,249\n",
      "Trainable params: 11,249\n",
      "Non-trainable params: 0\n",
      "_________________________________________________________________\n"
     ]
    }
   ],
   "source": [
    "# Create another, more dense neural network\n",
    "neural_network2 = Sequential()\n",
    "neural_network2.add(Dense(64, activation='relu', \n",
    "                            kernel_regularizer=regularizers.l2(0.01), input_shape=(138, )))\n",
    "neural_network2.add(Dense(32, activation='relu'))\n",
    "neural_network2.add(Dense(8, activation='relu'))\n",
    "neural_network2.add(Dense(1, activation='sigmoid'))\n",
    "\n",
    "# Compile the model\n",
    "neural_network2.compile(loss='binary_crossentropy', optimizer='adam', metrics=['accuracy'])\n",
    "\n",
    "# List a summary of the model\n",
    "neural_network2.summary()"
   ]
  },
  {
   "cell_type": "markdown",
   "metadata": {},
   "source": [
    "I fit the model this time to **50 epochs** in order to increase my training performance, and in the hope that my precision will increase as well. I will retain the batch size and evaluate on the validation data again."
   ]
  },
  {
   "cell_type": "code",
   "execution_count": 45,
   "metadata": {},
   "outputs": [
    {
     "name": "stdout",
     "output_type": "stream",
     "text": [
      "Epoch 1/50\n",
      "2739/2739 [==============================] - 10s 4ms/step - loss: 0.5772 - accuracy: 0.7189 - val_loss: 0.5593 - val_accuracy: 0.7461\n",
      "Epoch 2/50\n",
      "2739/2739 [==============================] - 10s 4ms/step - loss: 0.4896 - accuracy: 0.7727 - val_loss: 0.5355 - val_accuracy: 0.7706\n",
      "Epoch 3/50\n",
      "2739/2739 [==============================] - 10s 4ms/step - loss: 0.4789 - accuracy: 0.7802 - val_loss: 0.6184 - val_accuracy: 0.6920\n",
      "Epoch 4/50\n",
      "2739/2739 [==============================] - 10s 4ms/step - loss: 0.4738 - accuracy: 0.7839 - val_loss: 0.5703 - val_accuracy: 0.7371\n",
      "Epoch 5/50\n",
      "2739/2739 [==============================] - 10s 4ms/step - loss: 0.4697 - accuracy: 0.7881 - val_loss: 0.5673 - val_accuracy: 0.7386\n",
      "Epoch 6/50\n",
      "2739/2739 [==============================] - 10s 4ms/step - loss: 0.4655 - accuracy: 0.7907 - val_loss: 0.5747 - val_accuracy: 0.7303\n",
      "Epoch 7/50\n",
      "2739/2739 [==============================] - 10s 4ms/step - loss: 0.4622 - accuracy: 0.7934 - val_loss: 0.5623 - val_accuracy: 0.7417\n",
      "Epoch 8/50\n",
      "2739/2739 [==============================] - 9s 3ms/step - loss: 0.4604 - accuracy: 0.7943 - val_loss: 0.5606 - val_accuracy: 0.7439\n",
      "Epoch 9/50\n",
      "2739/2739 [==============================] - 9s 3ms/step - loss: 0.4585 - accuracy: 0.7956 - val_loss: 0.5291 - val_accuracy: 0.7819\n",
      "Epoch 10/50\n",
      "2739/2739 [==============================] - 7s 3ms/step - loss: 0.4578 - accuracy: 0.7967 - val_loss: 0.5804 - val_accuracy: 0.7265\n",
      "Epoch 11/50\n",
      "2739/2739 [==============================] - 6s 2ms/step - loss: 0.4571 - accuracy: 0.7969 - val_loss: 0.5456 - val_accuracy: 0.7660\n",
      "Epoch 12/50\n",
      "2739/2739 [==============================] - 7s 3ms/step - loss: 0.4567 - accuracy: 0.7975 - val_loss: 0.6027 - val_accuracy: 0.7095\n",
      "Epoch 13/50\n",
      "2739/2739 [==============================] - 10s 4ms/step - loss: 0.4561 - accuracy: 0.7979 - val_loss: 0.5547 - val_accuracy: 0.7570\n",
      "Epoch 14/50\n",
      "2739/2739 [==============================] - 10s 4ms/step - loss: 0.4562 - accuracy: 0.7977 - val_loss: 0.5384 - val_accuracy: 0.7689\n",
      "Epoch 15/50\n",
      "2739/2739 [==============================] - 10s 4ms/step - loss: 0.4557 - accuracy: 0.7979 - val_loss: 0.5611 - val_accuracy: 0.7460\n",
      "Epoch 16/50\n",
      "2739/2739 [==============================] - 10s 4ms/step - loss: 0.4549 - accuracy: 0.7987 - val_loss: 0.5453 - val_accuracy: 0.7665\n",
      "Epoch 17/50\n",
      "2739/2739 [==============================] - 10s 4ms/step - loss: 0.4549 - accuracy: 0.7981 - val_loss: 0.5515 - val_accuracy: 0.7615\n",
      "Epoch 18/50\n",
      "2739/2739 [==============================] - 10s 4ms/step - loss: 0.4549 - accuracy: 0.7987 - val_loss: 0.5351 - val_accuracy: 0.7748\n",
      "Epoch 19/50\n",
      "2739/2739 [==============================] - 10s 4ms/step - loss: 0.4551 - accuracy: 0.7983 - val_loss: 0.5500 - val_accuracy: 0.7591\n",
      "Epoch 20/50\n",
      "2739/2739 [==============================] - 10s 4ms/step - loss: 0.4539 - accuracy: 0.7991 - val_loss: 0.5530 - val_accuracy: 0.7560\n",
      "Epoch 21/50\n",
      "2739/2739 [==============================] - 10s 4ms/step - loss: 0.4543 - accuracy: 0.7986 - val_loss: 0.5359 - val_accuracy: 0.7758\n",
      "Epoch 22/50\n",
      "2739/2739 [==============================] - 9s 3ms/step - loss: 0.4540 - accuracy: 0.7996 - val_loss: 0.5545 - val_accuracy: 0.7536\n",
      "Epoch 23/50\n",
      "2739/2739 [==============================] - 8s 3ms/step - loss: 0.4546 - accuracy: 0.7990 - val_loss: 0.5974 - val_accuracy: 0.7138\n",
      "Epoch 24/50\n",
      "2739/2739 [==============================] - 10s 4ms/step - loss: 0.4543 - accuracy: 0.7990 - val_loss: 0.5573 - val_accuracy: 0.7476\n",
      "Epoch 25/50\n",
      "2739/2739 [==============================] - 10s 4ms/step - loss: 0.4545 - accuracy: 0.7993 - val_loss: 0.5592 - val_accuracy: 0.7502\n",
      "Epoch 26/50\n",
      "2739/2739 [==============================] - 10s 4ms/step - loss: 0.4542 - accuracy: 0.7989 - val_loss: 0.5663 - val_accuracy: 0.7438\n",
      "Epoch 27/50\n",
      "2739/2739 [==============================] - 10s 3ms/step - loss: 0.4536 - accuracy: 0.7994 - val_loss: 0.5412 - val_accuracy: 0.7694\n",
      "Epoch 28/50\n",
      "2739/2739 [==============================] - 9s 3ms/step - loss: 0.4541 - accuracy: 0.7987 - val_loss: 0.5403 - val_accuracy: 0.7700\n",
      "Epoch 29/50\n",
      "2739/2739 [==============================] - 10s 4ms/step - loss: 0.4535 - accuracy: 0.7996 - val_loss: 0.6011 - val_accuracy: 0.7035\n",
      "Epoch 30/50\n",
      "2739/2739 [==============================] - 9s 3ms/step - loss: 0.4529 - accuracy: 0.7998 - val_loss: 0.5595 - val_accuracy: 0.7527\n",
      "Epoch 31/50\n",
      "2739/2739 [==============================] - 7s 3ms/step - loss: 0.4534 - accuracy: 0.7993 - val_loss: 0.5344 - val_accuracy: 0.7766\n",
      "Epoch 32/50\n",
      "2739/2739 [==============================] - 8s 3ms/step - loss: 0.4531 - accuracy: 0.7998 - val_loss: 0.5512 - val_accuracy: 0.7543\n",
      "Epoch 33/50\n",
      "2739/2739 [==============================] - 10s 4ms/step - loss: 0.4532 - accuracy: 0.7996 - val_loss: 0.5549 - val_accuracy: 0.7541\n",
      "Epoch 34/50\n",
      "2739/2739 [==============================] - 9s 3ms/step - loss: 0.4536 - accuracy: 0.7993 - val_loss: 0.5628 - val_accuracy: 0.7410\n",
      "Epoch 35/50\n",
      "2739/2739 [==============================] - 8s 3ms/step - loss: 0.4524 - accuracy: 0.8002 - val_loss: 0.5372 - val_accuracy: 0.7743\n",
      "Epoch 36/50\n",
      "2739/2739 [==============================] - 9s 3ms/step - loss: 0.4504 - accuracy: 0.8006 - val_loss: 0.5360 - val_accuracy: 0.7778\n",
      "Epoch 37/50\n",
      "2739/2739 [==============================] - 10s 4ms/step - loss: 0.4477 - accuracy: 0.8016 - val_loss: 0.5308 - val_accuracy: 0.7765\n",
      "Epoch 38/50\n",
      "2739/2739 [==============================] - 9s 3ms/step - loss: 0.4449 - accuracy: 0.8020 - val_loss: 0.5667 - val_accuracy: 0.7457\n",
      "Epoch 39/50\n",
      "2739/2739 [==============================] - 9s 3ms/step - loss: 0.4426 - accuracy: 0.8024 - val_loss: 0.5530 - val_accuracy: 0.7604\n",
      "Epoch 40/50\n",
      "2739/2739 [==============================] - 9s 3ms/step - loss: 0.4415 - accuracy: 0.8022 - val_loss: 0.5655 - val_accuracy: 0.7504\n",
      "Epoch 41/50\n",
      "2739/2739 [==============================] - 9s 3ms/step - loss: 0.4414 - accuracy: 0.8023 - val_loss: 0.5857 - val_accuracy: 0.7455\n",
      "Epoch 42/50\n",
      "2739/2739 [==============================] - 9s 3ms/step - loss: 0.4417 - accuracy: 0.8015 - val_loss: 0.5363 - val_accuracy: 0.7763\n",
      "Epoch 43/50\n",
      "2739/2739 [==============================] - 9s 3ms/step - loss: 0.4416 - accuracy: 0.8009 - val_loss: 0.5671 - val_accuracy: 0.7553\n",
      "Epoch 44/50\n",
      "2739/2739 [==============================] - 9s 3ms/step - loss: 0.4420 - accuracy: 0.8006 - val_loss: 0.5343 - val_accuracy: 0.7798\n",
      "Epoch 45/50\n",
      "2739/2739 [==============================] - 9s 3ms/step - loss: 0.4421 - accuracy: 0.8011 - val_loss: 0.5193 - val_accuracy: 0.7915\n",
      "Epoch 46/50\n",
      "2739/2739 [==============================] - 10s 4ms/step - loss: 0.4427 - accuracy: 0.8002 - val_loss: 0.5231 - val_accuracy: 0.7878\n",
      "Epoch 47/50\n",
      "2739/2739 [==============================] - 8s 3ms/step - loss: 0.4424 - accuracy: 0.8005 - val_loss: 0.5407 - val_accuracy: 0.7759\n",
      "Epoch 48/50\n",
      "2739/2739 [==============================] - 9s 3ms/step - loss: 0.4426 - accuracy: 0.8000 - val_loss: 0.5914 - val_accuracy: 0.7399\n",
      "Epoch 49/50\n",
      "2739/2739 [==============================] - 9s 3ms/step - loss: 0.4431 - accuracy: 0.7999 - val_loss: 0.5513 - val_accuracy: 0.7704\n",
      "Epoch 50/50\n",
      "2739/2739 [==============================] - 9s 3ms/step - loss: 0.4425 - accuracy: 0.8000 - val_loss: 0.5395 - val_accuracy: 0.7764\n"
     ]
    }
   ],
   "source": [
    "# Fit the model\n",
    "results = neural_network2.fit(X_train, y_train_res, epochs=50, batch_size=256,\n",
    "                                      validation_data=(X_val, y_val))"
   ]
  },
  {
   "cell_type": "code",
   "execution_count": 46,
   "metadata": {},
   "outputs": [
    {
     "name": "stdout",
     "output_type": "stream",
     "text": [
      "21908/21908 [==============================] - 23s 1ms/step - loss: 10.5074 - accuracy: 0.5081\n",
      "Training data results:\n",
      "[10.507423400878906, 0.5081394910812378]\n",
      "\n",
      "\n",
      "   1/2278 [..............................] - ETA: 0s - loss: 0.5820 - accuracy: 0.7500WARNING:tensorflow:Callbacks method `on_test_batch_end` is slow compared to the batch time (batch time: 0.0000s vs `on_test_batch_end` time: 0.0156s). Check your callbacks.\n",
      "2278/2278 [==============================] - 3s 1ms/step - loss: 0.5395 - accuracy: 0.7764\n",
      "Validation data results:\n",
      "[0.5395013093948364, 0.7764313817024231]\n"
     ]
    },
    {
     "data": {
      "image/png": "[encoded data removed]",
      "text/plain": [
       "<Figure size 720x576 with 1 Axes>"
      ]
     },
     "metadata": {},
     "output_type": "display_data"
    }
   ],
   "source": [
    "# Evaluate the loss and accuracy scores for the training and validation datasets\n",
    "print(f'Training data results:\\n{neural_network2.evaluate(X_train_res, y_train_res)}')\n",
    "print('\\n')\n",
    "print(f'Validation data results:\\n{neural_network2.evaluate(X_val, y_val)}')\n",
    "\n",
    "# Generate predictions and \"round\" the values\n",
    "y_preds2 = neural_network2.predict(X_val)\n",
    "y_preds2[y_preds2 > 0.5] = 1\n",
    "y_preds2[y_preds2 < 0.5] = 0\n",
    "\n",
    "# Plot a confusion matrix of the validation data\n",
    "plt.figure(figsize=(10, 8))\n",
    "sns.heatmap(confusion_matrix(y_val, y_preds2), annot=True,\n",
    "           fmt='.1f', xticklabels=['Not Delayed', 'Delayed'],\n",
    "           yticklabels=['Not Delayed', 'Delayed'], cmap='OrRd', cbar=False)\n",
    "plt.xlabel(\"Predicted Labels\")\n",
    "plt.ylabel(\"True Labels\")\n",
    "plt.show()"
   ]
  },
  {
   "cell_type": "markdown",
   "metadata": {},
   "source": [
    "Based on the training and validation accuracies, I see that my model got better at misclassifying delayed flights! The true delays in my confusion matrix though got worse. My false positive cases reduced from 5206 to 4420, which is a good start towards my goals. However, my delay cases decreased slightly and needs to be improved. I print out the three metrics once again to get a better idea of my model's performance."
   ]
  },
  {
   "cell_type": "code",
   "execution_count": 47,
   "metadata": {},
   "outputs": [
    {
     "name": "stdout",
     "output_type": "stream",
     "text": [
      "Precision score: 36.46 %\n",
      "Recall score: 17.6 %\n",
      "F1 score: 23.74 %\n"
     ]
    }
   ],
   "source": [
    "# Run the metrics function\n",
    "model_metrics(y_val, y_preds2)"
   ]
  },
  {
   "cell_type": "markdown",
   "metadata": {},
   "source": [
    "The three scores above tell me a few things. First, the precision score slightly increased to 36.5% and the remaining two scores decreased slightly, which is to be expected after seeing the true positive cases decrease. I will create one more neural network to try to improve my model's performance once again. Below I create another network, reverting back to my baseline architecture but with a smaller regularizer (0.001)."
   ]
  },
  {
   "cell_type": "code",
   "execution_count": 48,
   "metadata": {},
   "outputs": [
    {
     "name": "stdout",
     "output_type": "stream",
     "text": [
      "Model: \"sequential_2\"\n",
      "_________________________________________________________________\n",
      "Layer (type)                 Output Shape              Param #   \n",
      "=================================================================\n",
      "dense_7 (Dense)              (None, 64)                8896      \n",
      "_________________________________________________________________\n",
      "dense_8 (Dense)              (None, 16)                1040      \n",
      "_________________________________________________________________\n",
      "dense_9 (Dense)              (None, 1)                 17        \n",
      "=================================================================\n",
      "Total params: 9,953\n",
      "Trainable params: 9,953\n",
      "Non-trainable params: 0\n",
      "_________________________________________________________________\n"
     ]
    }
   ],
   "source": [
    "# Create a neural network similar to the baseline with a smaller regularizer\n",
    "neural_network3 = Sequential()\n",
    "neural_network3.add(Dense(64, activation='relu', \n",
    "                            kernel_regularizer=regularizers.l2(0.001), input_shape=(138, )))\n",
    "neural_network3.add(Dense(16, activation='relu'))\n",
    "neural_network3.add(Dense(1, activation='sigmoid'))\n",
    "\n",
    "# Compile the baseline model\n",
    "neural_network3.compile(loss='binary_crossentropy', optimizer='adam', metrics=['accuracy'])\n",
    "\n",
    "# List a summary of the model\n",
    "neural_network3.summary()"
   ]
  },
  {
   "cell_type": "markdown",
   "metadata": {},
   "source": [
    "This iteration will differ from the other two networks I built by increasing the epochs to 128, setting a stopping condition with the `EarlyStopping` function, and saving that checkpoint as my best deep learning model with the `ModelCheckpoint` function. I will pass this stopping condition as I fit my model, evaluating it once again on my validation data. "
   ]
  },
  {
   "cell_type": "code",
   "execution_count": 49,
   "metadata": {},
   "outputs": [],
   "source": [
    "# Create a file name object for the best model checkpoint\n",
    "model_filepath = 'deep_learning_model.h5'\n",
    "\n",
    "# Set early stopping and model checkpoint conditions\n",
    "early_stopping = [EarlyStopping(monitor='val_loss', patience=8), \n",
    "                  ModelCheckpoint(filepath=model_filepath, monitor='val_loss', save_best_only=True)]"
   ]
  },
  {
   "cell_type": "code",
   "execution_count": 50,
   "metadata": {
    "scrolled": true
   },
   "outputs": [
    {
     "name": "stdout",
     "output_type": "stream",
     "text": [
      "Epoch 1/128\n",
      "2739/2739 [==============================] - 10s 4ms/step - loss: 0.5417 - accuracy: 0.7362 - val_loss: 0.5181 - val_accuracy: 0.7879\n",
      "Epoch 2/128\n",
      "2739/2739 [==============================] - 9s 3ms/step - loss: 0.4500 - accuracy: 0.7967 - val_loss: 0.5019 - val_accuracy: 0.7973\n",
      "Epoch 3/128\n",
      "2739/2739 [==============================] - 9s 3ms/step - loss: 0.4292 - accuracy: 0.8082 - val_loss: 0.5248 - val_accuracy: 0.7746\n",
      "Epoch 4/128\n",
      "2739/2739 [==============================] - 10s 3ms/step - loss: 0.4194 - accuracy: 0.8121 - val_loss: 0.5165 - val_accuracy: 0.7791\n",
      "Epoch 5/128\n",
      "2739/2739 [==============================] - 9s 3ms/step - loss: 0.4138 - accuracy: 0.8146 - val_loss: 0.5214 - val_accuracy: 0.7791\n",
      "Epoch 6/128\n",
      "2739/2739 [==============================] - 9s 3ms/step - loss: 0.4111 - accuracy: 0.8155 - val_loss: 0.5167 - val_accuracy: 0.7819\n",
      "Epoch 7/128\n",
      "2739/2739 [==============================] - 9s 3ms/step - loss: 0.4086 - accuracy: 0.8171 - val_loss: 0.5475 - val_accuracy: 0.7592\n",
      "Epoch 8/128\n",
      "2739/2739 [==============================] - 8s 3ms/step - loss: 0.4067 - accuracy: 0.8172 - val_loss: 0.5150 - val_accuracy: 0.7847\n",
      "Epoch 9/128\n",
      "2739/2739 [==============================] - 9s 3ms/step - loss: 0.4052 - accuracy: 0.8178 - val_loss: 0.5306 - val_accuracy: 0.7723\n",
      "Epoch 10/128\n",
      "2739/2739 [==============================] - 9s 3ms/step - loss: 0.4036 - accuracy: 0.8192 - val_loss: 0.5338 - val_accuracy: 0.7657\n"
     ]
    }
   ],
   "source": [
    "# Fit the model with more epochs\n",
    "results2 = neural_network3.fit(X_train, y_train_res, epochs=128, batch_size=256, callbacks=early_stopping,\n",
    "                                      validation_data=(X_val, y_val))"
   ]
  },
  {
   "cell_type": "markdown",
   "metadata": {},
   "source": [
    "I see that my model has stopped after 10 epochs! Now I will take that saved model, load it, and evaluate the model on the training and validation data to view its accuracy. I will also plot the confusion matrix, and see how the model performed. "
   ]
  },
  {
   "cell_type": "code",
   "execution_count": 51,
   "metadata": {},
   "outputs": [
    {
     "name": "stdout",
     "output_type": "stream",
     "text": [
      "21908/21908 [==============================] - 23s 1ms/step - loss: 0.4425 - accuracy: 0.8037\n",
      "Training Loss: 0.442 \n",
      "Training Accuracy: 0.804\n",
      "----------\n",
      "2278/2278 [==============================] - 2s 1ms/step - loss: 0.5019 - accuracy: 0.7973\n",
      "Validation Loss: 0.502 \n",
      "Validation Accuracy: 0.797\n"
     ]
    }
   ],
   "source": [
    "# Load the saved model\n",
    "saved_model = load_model(model_filepath)\n",
    "\n",
    "# Calculate the loss and accuracy scores for both training datasets\n",
    "results_train = saved_model.evaluate(X_train, y_train_res)\n",
    "print(f'Training Loss: {results_train[0]:.3} \\nTraining Accuracy: {results_train[1]:.3}')\n",
    "\n",
    "print('----------')\n",
    "\n",
    "results_val = saved_model.evaluate(X_val, y_val)\n",
    "print(f'Validation Loss: {results_val[0]:.3} \\nValidation Accuracy: {results_val[1]:.3}')"
   ]
  },
  {
   "cell_type": "code",
   "execution_count": 52,
   "metadata": {},
   "outputs": [
    {
     "data": {
      "image/png": "[encoded data removed]",
      "text/plain": [
       "<Figure size 720x576 with 1 Axes>"
      ]
     },
     "metadata": {},
     "output_type": "display_data"
    }
   ],
   "source": [
    "# Generate predictions and \"round\" the values\n",
    "y_val_preds = saved_model.predict(X_val)\n",
    "y_val_preds[y_val_preds > 0.5] = 1\n",
    "y_val_preds[y_val_preds < 0.5] = 0\n",
    "\n",
    "# Plot a confusion matrix of the validation data\n",
    "plt.figure(figsize=(10, 8))\n",
    "sns.heatmap(confusion_matrix(y_val, y_val_preds), annot=True,\n",
    "           fmt='.1f', xticklabels=['Not Delayed', 'Delayed'],\n",
    "           yticklabels=['Not Delayed', 'Delayed'], cmap='OrRd', cbar=False)\n",
    "plt.xlabel(\"Predicted Labels\")\n",
    "plt.ylabel(\"True Labels\")\n",
    "plt.show()"
   ]
  },
  {
   "cell_type": "markdown",
   "metadata": {},
   "source": [
    "This is definitely the best deep learning model at precisely avoid miscategorizing non-delayed flights; although, the other metrics leave something to be desired. I can see that the false positive cases amount to 2374, which makes this good enough to serve as my best deep learning model - and is also saved. By calculating the model's scores, I also see that the model is 45.8% precise, has a recall of 13.94%, and its f1 score is at 21.37%. The latter metrics are exhibited in the plot above by the decrease in the true delays predictions. As a matter of fact, the 12,399 cases of non-delayed predictions is the highest I've seen yet, showing our model isn't getting better in that regard. There will need to be more work done on the network's architecture to better improve that area, the extent to which will also depend on resource constraints. "
   ]
  },
  {
   "cell_type": "code",
   "execution_count": 53,
   "metadata": {},
   "outputs": [
    {
     "name": "stdout",
     "output_type": "stream",
     "text": [
      "Precision score: 45.82 %\n",
      "Recall score: 13.94 %\n",
      "F1 score: 21.37 %\n"
     ]
    }
   ],
   "source": [
    "# Calculate the relevant metrics\n",
    "model_metrics(y_val, y_val_preds)"
   ]
  },
  {
   "cell_type": "markdown",
   "metadata": {},
   "source": [
    "## Evaluation\n"
   ]
  },
  {
   "cell_type": "markdown",
   "metadata": {},
   "source": [
    "When comparing models, I decide that the machine learning technique produced the best one, and should be used to evaluate my test data. I will generate the predictions, and print the three scores plus its accuracy to get a full picture of my model's efficiency. Fortunately, the model has been already saved and has been included in the repository as my means of deployment (with improved resources, the aim is to deploy the model as an app for daily use). "
   ]
  },
  {
   "cell_type": "code",
   "execution_count": 54,
   "metadata": {},
   "outputs": [],
   "source": [
    "# Save the ML model  \n",
    "with open('best_model.pkl', 'wb') as f:\n",
    "    joblib.dump(rf_gridsearch, f)\n",
    "\n",
    "best_model = joblib.load('best_model.pkl')"
   ]
  },
  {
   "cell_type": "code",
   "execution_count": 55,
   "metadata": {},
   "outputs": [
    {
     "name": "stdout",
     "output_type": "stream",
     "text": [
      "Generated 72867 predictions\n",
      "              precision    recall  f1-score   support\n",
      "\n",
      " Not Delayed       0.81      0.90      0.85     58405\n",
      "     Delayed       0.27      0.16      0.20     14462\n",
      "\n",
      "    accuracy                           0.75     72867\n",
      "   macro avg       0.54      0.53      0.53     72867\n",
      "weighted avg       0.70      0.75      0.72     72867\n",
      "\n",
      "Precision score: 27.15 %\n",
      "Recall score: 15.79 %\n",
      "F1 score: 19.97 %\n"
     ]
    }
   ],
   "source": [
    "# Evaluate the test data and list the relevant metrics\n",
    "y_hat_test = best_model.predict(X_test)\n",
    "\n",
    "target_names = ['Not Delayed', 'Delayed']\n",
    "print('Generated {} predictions'.format(len(y_hat_test)))\n",
    "print(classification_report(y_test, y_hat_test, target_names=target_names))\n",
    "model_metrics(y_test, y_hat_test)"
   ]
  },
  {
   "cell_type": "markdown",
   "metadata": {},
   "source": [
    "My model's test metrics are worse than when it performed on my validation data. Specifically, the model is 27% precise, has a recall of 16.0%, and an f1 score of 20.0%. This is not good and the model needs to be refined. There are some limitations I need to improve, which I will address after this analysis, that I'll need to overcome to deploy this model for public use. "
   ]
  },
  {
   "cell_type": "code",
   "execution_count": 56,
   "metadata": {},
   "outputs": [
    {
     "data": {
      "image/png": "[encoded data removed]",
      "text/plain": [
       "<Figure size 720x576 with 1 Axes>"
      ]
     },
     "metadata": {},
     "output_type": "display_data"
    }
   ],
   "source": [
    "# Plot a confusion matrix of the test data\n",
    "plt.figure(figsize=(10, 8))\n",
    "sns.heatmap(confusion_matrix(y_test, y_hat_test), annot=True,\n",
    "           fmt='.1f', xticklabels=['Not Delayed', 'Delayed'],\n",
    "           yticklabels=['Not Delayed', 'Delayed'], cmap='OrRd', cbar=False)\n",
    "plt.xlabel(\"Predicted Labels\")\n",
    "plt.ylabel(\"True Labels\")\n",
    "plt.show();"
   ]
  },
  {
   "cell_type": "markdown",
   "metadata": {},
   "source": [
    "The confusion matrix above only further displays the model's test performance - there are 6,127 false positive predictions, which is worse than the past models I built and evaluated. The number of true positive cases increased, which gives me some hope that the model can be improved to levels that are acceptable for mass deployment. "
   ]
  },
  {
   "cell_type": "markdown",
   "metadata": {},
   "source": [
    "## Conclusion"
   ]
  },
  {
   "cell_type": "markdown",
   "metadata": {},
   "source": [
    "This analysis leads to the following conclusions:\n",
    "\n",
    "1. The neural networks performed better than the machine learning algorithms I tested in terms of precision, and is the algorithm I will utilize to improve my performance.\n",
    "\n",
    "2. The model is exactly 27.2% precise when correctly classifying delayed flights."
   ]
  },
  {
   "cell_type": "markdown",
   "metadata": {},
   "source": [
    "## Limitations/Further Work"
   ]
  },
  {
   "cell_type": "markdown",
   "metadata": {},
   "source": [
    "This project is limited in a few ways. First and foremost, I built my models under heavy computational constraints. Given the nature of the data, it is necessary to train models on computers that can process larger and fuller datasets in quicker time. For example, the grid search I performed earlier took almost 3 hours to run, despite a thin parameter grid. With improved hardware, I could use that same amount of time but apply techniques, like creating a better (more complete) parameter grid or analyzing larger data, to improve the model's performance. Another drawback is the class imbalance. I applied sampling methods to augment the minority class, which gave me more data to work with, but also increased my run times. Therefore, gathering more data that fall in the minority class would greatly improve my precision. Lastly, and this ties with my computational constraints, I mentioned I could have used a wider range of hyperparameters to perform my grid search with. Unfortunately, with limited resources, it would have taken me hours or even days to fully perform this search. However, I could have found a better set of hyperparameters that would improve my metrics and predictions. \n",
    "\n",
    "Further analyses could yield a more effective model, and possibly improve the algorithm's performance to the point where I push to market. Some possible courses of action I could take include:\n",
    "\n",
    "1. Training my model with better, stronger hardware/computers.\n",
    "2. Gathering more data with an emphasis on balancing the minority class to avoid sampling. \n",
    "3. Evaluating on different metrics to see how it impacts my model's performance.\n",
    "4. Gain more feedback from peers and analyze the model with other methods (i.e., the Gradient Boosting classifier)"
   ]
  },
  {
   "cell_type": "markdown",
   "metadata": {},
   "source": [
    "## Sources\n",
    "Link to original dataset: \n",
    "https://www.kaggle.com/datasets/threnjen/2019-airline-delays-and-cancellations/data?select=full_data_flightdelay.csv\n",
    "\n",
    "Wall Street Journal annual airlines ranking report:\n",
    "https://www.wsj.com/lifestyle/travel/best-airlines-us-2023-36e9ea20\n",
    "\n",
    "Bureau of Transportation Statistics:\n",
    "https://www.transtats.bts.gov/HomeDrillChart.asp\n",
    "\n",
    "Federal Aviation Administration (FAA):\n",
    "https://aspm.faa.gov/aspmhelp/index/Types_of_Delay.html"
   ]
  }
 ],
 "metadata": {
  "kernelspec": {
   "display_name": "Python (learn-env",
   "language": "python",
   "name": "learn-env"
  },
  "language_info": {
   "codemirror_mode": {
    "name": "ipython",
    "version": 3
   },
   "file_extension": ".py",
   "mimetype": "text/x-python",
   "name": "python",
   "nbconvert_exporter": "python",
   "pygments_lexer": "ipython3",
   "version": "3.8.5"
  }
 },
 "nbformat": 4,
 "nbformat_minor": 4
}
